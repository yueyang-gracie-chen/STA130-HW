{
 "cells": [
  {
   "cell_type": "markdown",
   "id": "e4abc579",
   "metadata": {},
   "source": [
    "Preferred Group Members: Ciny Liang, Julien Brandon, Lan, Jason"
   ]
  },
  {
   "cell_type": "markdown",
   "id": "79b60eee",
   "metadata": {},
   "source": [
    "Proposal 1: The Relationship Between Happiness and Physical Health"
   ]
  },
  {
   "cell_type": "markdown",
   "id": "93ca02cc",
   "metadata": {},
   "source": [
    "Reasearch Question:\n",
    "\n",
    "Does self-rated physical health affect a person’s level of happiness?\n",
    "(In simple words, do people who rate their physical health as higher feel happier than those who rate it lower?)"
   ]
  },
  {
   "cell_type": "markdown",
   "id": "a8b3e9c6",
   "metadata": {},
   "source": [
    "Variables:\n",
    "\n",
    "- Happiness Score: Using WELLNESS_subjective_happiness_scale_score, which represents a person’s level of happiness.\n",
    "- Physical Health Rating: Using WELLNESS_self_rated_physical_health, which is a self-rated score of a person’s physical health."
   ]
  },
  {
   "cell_type": "markdown",
   "id": "214c5872",
   "metadata": {},
   "source": [
    "Why Choose These Variables:\n",
    "\n",
    "Physical health and happiness are both important aspects of mental well-being and quality of life. By comparing happiness levels between people who rate their health differently, we can better understand the impact of health on happiness."
   ]
  },
  {
   "cell_type": "markdown",
   "id": "a7d21865",
   "metadata": {},
   "source": [
    "Statistical Method:\n",
    "\n",
    "Independent t-Test: We will split participants into two groups (high health and low health) based on their self-rated physical health scores and use a t-test to compare the average happiness levels between these two groups. This method is useful for comparing averages between two separate groups."
   ]
  },
  {
   "cell_type": "markdown",
   "id": "37dab0b9",
   "metadata": {},
   "source": [
    "Visualization:\n",
    "\n",
    "Box Plot: A box plot will show the distribution of happiness scores in both the high health and low health groups. This can help us see any noticeable differences in the levels of happiness."
   ]
  },
  {
   "cell_type": "markdown",
   "id": "3fb5ff9f",
   "metadata": {},
   "source": [
    "How to Perform the Analysis:\n",
    "1. Grouping the Data: We will divide WELLNESS_self_rated_physical_health into “high health” and “low health” groups based on the median value.\n",
    "2. Calculating Averages and Standard Deviations: For each group, we calculate the average and standard deviation of the happiness scores from WELLNESS_subjective_happiness_scale_score.\n",
    "3. Conducting the t-Test:\n",
    "We perform an independent t-test to see if there’s a significant difference in happiness between the two groups; we’ll set a significance level (usually 0.05) and check the p-value from the test results.\n",
    "4. Interpreting Results: If the p-value is less than our significance level, we’ll reject the null hypothesis and conclude that the average happiness between the two groups is significantly different."
   ]
  },
  {
   "cell_type": "markdown",
   "id": "2c9f5043",
   "metadata": {},
   "source": [
    "Hypotheses:\n",
    "- Null Hypothesis (H0): There is no difference in happiness between the high health and low health groups.\n",
    "- Alternative Hypothesis (H1): People in the high health group are, on average, happier than those in the low health group."
   ]
  },
  {
   "cell_type": "markdown",
   "id": "d92e426c",
   "metadata": {},
   "source": [
    "Expected Results and Significance:\n",
    "\n",
    "If we find that people in the high health group have significantly higher happiness levels, it would suggest that better physical health is linked to greater happiness. This result could support the importance of promoting healthy lifestyles to improve happiness.\n"
   ]
  },
  {
   "cell_type": "markdown",
   "id": "967d64a6",
   "metadata": {},
   "source": [
    "Proposal 2: The Relationship Between Loneliness and Social Support"
   ]
  },
  {
   "cell_type": "markdown",
   "id": "88d9dac9",
   "metadata": {},
   "source": [
    "Research Question:\n",
    "\n",
    "Does the level of social support a person receives reduce feelings of loneliness?\n",
    "(I want to explore if people with higher levels of social support feel less lonely than those with lower levels of social support.)"
   ]
  },
  {
   "cell_type": "markdown",
   "id": "2974c322",
   "metadata": {},
   "source": [
    "Variables:\n",
    "- Loneliness Score: Using LONELY_ucla_loneliness_scale_score, which measures how lonely a person feels.\n",
    "- Social Support Score: Using PSYCH_zimet_multidimensional_social_support_scale_score, which measures the level of social support a person receives."
   ]
  },
  {
   "cell_type": "markdown",
   "id": "4b25db3d",
   "metadata": {},
   "source": [
    "Why Choose These Variables:\n",
    "\n",
    "Social support is widely believed to help reduce feelings of loneliness. By comparing loneliness levels among people with different levels of social support, we can better understand the effects of social support on mental health."
   ]
  },
  {
   "cell_type": "markdown",
   "id": "6785929c",
   "metadata": {},
   "source": [
    "Statistical Method:\n",
    "\n",
    "Independent t-Test: We will divide people into high and low social support groups and use a t-test to compare the average loneliness levels between these two groups. This method is suitable for comparing two groups' averages to see if there’s a significant difference."
   ]
  },
  {
   "cell_type": "markdown",
   "id": "8d1f9ef5",
   "metadata": {},
   "source": [
    "Visualization:\n",
    "\n",
    "Bar Chart: A bar chart can show the average loneliness scores of the high and low social support groups, making it easy to compare the two."
   ]
  },
  {
   "cell_type": "markdown",
   "id": "46fcc2ca",
   "metadata": {},
   "source": [
    "How to Perform the Analysis:\n",
    "1. Grouping the Data: We will split PSYCH_zimet_multidimensional_social_support_scale_score into “high support” and “low support” groups based on the median.\n",
    "2. Calculating Averages and Standard Deviations: For each group, we calculate the average and standard deviation of loneliness scores from LONELY_ucla_loneliness_scale_score.\n",
    "3. Conducting the t-Test: We perform an independent t-test to determine if the average loneliness scores between the high and low support groups are significantly different; we’ll set a significance level (usually 0.05) and check the p-value.\n",
    "4. Interpreting Results: If the p-value is less than the significance level, we’ll conclude that there is a significant difference in loneliness levels between people with high and low social support."
   ]
  },
  {
   "cell_type": "markdown",
   "id": "5057993a",
   "metadata": {},
   "source": [
    "Hypotheses:\n",
    "- Null Hypothesis (H0): There is no difference in loneliness between the high and low social support groups.\n",
    "- Alternative Hypothesis (H1): People in the high support group are less lonely on average than those in the low support group."
   ]
  },
  {
   "cell_type": "markdown",
   "id": "b4130c76",
   "metadata": {},
   "source": [
    "Expected Results and Significance:\n",
    "\n",
    "If the t-test shows that the high support group is significantly less lonely than the low support group, it would suggest that higher levels of social support are effective in reducing loneliness. This insight could support mental health interventions that encourage stronger social connections."
   ]
  },
  {
   "cell_type": "markdown",
   "id": "867cfc59",
   "metadata": {},
   "source": [
    "Proposal 3: The Relationship Between Screen Time and Mental Health"
   ]
  },
  {
   "cell_type": "markdown",
   "id": "522668b2",
   "metadata": {},
   "source": [
    "Research Question:\n",
    "\n",
    "Is there a relationship between screen time and anxiety?(Is more screen time linked to higher anxiety levels?)"
   ]
  },
  {
   "cell_type": "markdown",
   "id": "cc7765b9",
   "metadata": {},
   "source": [
    "Variables:\n",
    "- Mental Health Score: WELLNESS_gad_score\n",
    "- Screen Time: CONNECTION_activities_computer_games_p3m"
   ]
  },
  {
   "cell_type": "markdown",
   "id": "00ac408b",
   "metadata": {},
   "source": [
    "Why Choose These Variables:\n",
    "\n",
    "With increasing screen time, understanding its effect on mental health is important. Analyzing screen time and anxiety levels can reveal potential mental health risks."
   ]
  },
  {
   "cell_type": "markdown",
   "id": "556f653d",
   "metadata": {},
   "source": [
    "Statistical Method:\n",
    "\n",
    "Simple Linear Regression: Screen time as the predictor and anxiety score as the outcome, to see if there’s a relationship."
   ]
  },
  {
   "cell_type": "markdown",
   "id": "bfa093f6",
   "metadata": {},
   "source": [
    "Visualization:\n",
    "\n",
    "Scatter Plot with Regression Line:  A scatter plot with a regression line will allow us to see any trends between screen time and anxiety scores, such as whether they are positively or negatively related."
   ]
  },
  {
   "cell_type": "markdown",
   "id": "f643c233",
   "metadata": {},
   "source": [
    "How to Perform the Analysis:\n",
    "1. Select Variables: Use CONNECTION_activities_computer_games_p3m (screen time) as independent, WELLNESS_gad_score (anxiety score) as dependent.\n",
    "2. Fit Regression Model: Use linear regression to see how screen time relates to anxiety.\n",
    "3. Model: Anxiety Score = β0 + β1 * Screen Time + ε\n",
    "4. Check Coefficient and Significance: Look at β1’s sign and p-value to determine if screen time significantly affects anxiety.\n",
    "5. Interpret Results: If p-value < 0.05, screen time is significantly related to anxiety."
   ]
  },
  {
   "cell_type": "markdown",
   "id": "294487ef",
   "metadata": {},
   "source": [
    "Hypotheses:\n",
    "- Null Hypothesis(H0): There is no linear relationship between screen time and anxiety.\n",
    "- Alternative Hypothesis(H1): There is a significant positive relationship between screen time and anxiety, suggesting that increased screen time may be linked to higher anxiety."
   ]
  },
  {
   "cell_type": "markdown",
   "id": "132337f9",
   "metadata": {},
   "source": [
    "Expected Results and Significance:\n",
    "\n",
    "If the regression shows a positive relationship between screen time and anxiety, it would indicate that more screen time could be associated with increased anxiety. This could support public health recommendations for balanced screen use to protect mental health."
   ]
  }
 ],
 "metadata": {
  "kernelspec": {
   "display_name": "Python 3 (ipykernel)",
   "language": "python",
   "name": "python3"
  },
  "language_info": {
   "codemirror_mode": {
    "name": "ipython",
    "version": 3
   },
   "file_extension": ".py",
   "mimetype": "text/x-python",
   "name": "python",
   "nbconvert_exporter": "python",
   "pygments_lexer": "ipython3",
   "version": "3.11.6"
  }
 },
 "nbformat": 4,
 "nbformat_minor": 5
}
