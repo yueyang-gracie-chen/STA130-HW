{
 "cells": [
  {
   "cell_type": "markdown",
   "id": "31c2c029",
   "metadata": {},
   "source": [
    "1. The \"Pre-lecture\" video (above) mentioned the \"standard error of the mean\" as being the \"standard deviation\" of the distribution bootstrapped means. What is the difference between the \"standard error of the mean\" and the \"standard deviation\" of the original data? What distinct ideas do each of these capture? Explain this concisely in your own words."
   ]
  },
  {
   "cell_type": "markdown",
   "id": "03d67721",
   "metadata": {},
   "source": [
    "The standard error of the mean (SEM) measures how much the sample mean is expected to vary due to the natural variability in sampling. It provides an estimate of how much the sample mean would fluctuate if multiple random samples were taken from the same population. A smaller SEM suggests that the sample mean is a more reliable and accurate reflection of the true population mean. As the sample size increases, the SEM decreases because larger samples tend to produce more precise and stable estimates of the population mean, reducing the effect of random sampling variability."
   ]
  },
  {
   "cell_type": "markdown",
   "id": "02a5fe7b",
   "metadata": {},
   "source": [
    "The standard deviation (SD) measures how much individual data points differ from the mean of the dataset, providing insight into the overall variability within the data. It helps to capture the spread of the data, indicating how dispersed or concentrated the values are within the sample or population. A larger SD means the data points are more spread out, showing greater variation from the mean, whereas a smaller SD suggests that the values are more closely grouped around the mean, reflecting less variability in the dataset. This metric gives a clear sense of how consistent or variable the data is."
   ]
  },
  {
   "cell_type": "markdown",
   "id": "23e181bd",
   "metadata": {},
   "source": [
    "Distinct Ideas They Capture:"
   ]
  },
  {
   "cell_type": "markdown",
   "id": "0f35b0b0",
   "metadata": {},
   "source": [
    "Overall, the standard deviation (SD) reflects how spread out the individual data points are within a sample or population, showing the variability within the dataset. On the other hand, the standard error of the mean (SEM) indicates how precise the sample mean is as an estimate of the true population mean, representing how much the sample mean would fluctuate across different samples."
   ]
  },
  {
   "cell_type": "markdown",
   "id": "b0897fb2",
   "metadata": {},
   "source": [
    "Link for Q1 with chatgpt:\n",
    "https://chatgpt.com/share/66fbbba5-ddd0-8010-8b92-b083f233e755"
   ]
  },
  {
   "cell_type": "markdown",
   "id": "356a3eb3",
   "metadata": {},
   "source": [
    "Abstract for Q1 with chatgpt:"
   ]
  },
  {
   "cell_type": "markdown",
   "id": "9a9554cc",
   "metadata": {},
   "source": [
    "Here’s a complete summary of our exchanges related to your homework assignment:\n",
    "\n",
    "Question about Standard Error of the Mean (SEM) vs. Standard Deviation (SD):\n",
    "\n",
    "You mentioned a video that discussed the standard error of the mean (SEM) as the \"standard deviation\" of the distribution of bootstrapped means.\n",
    "I explained the difference between SEM and SD:\n",
    "Standard Deviation (SD): Measures the spread of individual data points in your sample or population. It tells you how much variation exists in the data itself.\n",
    "Standard Error of the Mean (SEM): Measures how much the sample mean would vary if you took multiple samples. It estimates the precision of the sample mean as an estimate of the population mean, and it decreases with larger sample sizes.\n",
    "SD captures variability in the data, while SEM captures how confident you are in your estimate of the population mean based on your sample.\n",
    "Question about Bootstrapping:\n",
    "\n",
    "You asked for an explanation of bootstrapping.\n",
    "I explained that bootstrapping is a resampling technique used to estimate the distribution of a sample statistic (like the mean, median, or variance) by resampling the original data with replacement multiple times.\n",
    "Key steps:\n",
    "Randomly resample the data with replacement.\n",
    "Calculate the statistic for each resample (e.g., mean).\n",
    "Repeat many times to create a distribution of the statistic.\n",
    "Analyze the distribution (e.g., calculate the standard error, confidence intervals).\n",
    "Bootstrapping is useful because it doesn't require assumptions about the underlying population distribution and can be applied in situations with small samples or complex statistics.\n",
    "This summary reflects the main points of our interaction regarding standard error, standard deviation, and bootstrapping. Let me know if you'd like me to add or modify anything before you submit!"
   ]
  },
  {
   "cell_type": "markdown",
   "id": "2e3a3fe5",
   "metadata": {},
   "source": [
    "2. The \"Pre-lecture\" video (above) suggested that the \"standard error of the mean\" could be used to create a confidence interval, but didn't describe exactly how to do this. How can we use the \"standard error of the mean\" to create a 95% confidence interval which \"covers 95% of the bootstrapped sample means\"? Explain this concisely in your own words."
   ]
  },
  {
   "cell_type": "markdown",
   "id": "8ef991fb",
   "metadata": {},
   "source": [
    "Step1\n",
    "Calculate the SEM: This represents the variability of the sample mean.\n",
    "\n",
    "Step2\n",
    "Determine the critical value: For a 95% confidence interval, the critical value, based on the normal distribution, is approximately 1.96 for large sample sizes.\n",
    "\n",
    "Step3\n",
    "Construct the confidence interval: The 95% confidence interval is calculated using the formula:\n",
    "Confidence Interval\n",
    "=\n",
    "𝑥\n",
    "ˉ\n",
    "±\n",
    "𝑧\n",
    "×\n",
    "SEM\n",
    "\n",
    "where \n",
    "𝑥\n",
    "ˉ\n",
    "x\n",
    "ˉ\n",
    "  is the sample mean, \n",
    "𝑧\n",
    "z is the critical value (1.96 for 95% confidence), and SEM is the standard error of the mean."
   ]
  },
  {
   "cell_type": "markdown",
   "id": "563a6f5f",
   "metadata": {},
   "source": [
    "3. Creating the \"sample mean plus and minus about 2 times the standard error\" confidence interval addressed in the previous problem should indeed cover approximately 95% of the bootstrapped sample means. Alternatively, how do we create a 95% bootstrapped confidence interval using the bootstrapped means (without using their standard deviation to estimate the standard error of the mean)? Explain this concisely in your own words."
   ]
  },
  {
   "cell_type": "markdown",
   "id": "c8675244",
   "metadata": {},
   "source": [
    "Step1\n",
    "Generate Bootstrapped Samples: Resample your original dataset with replacement multiple times (e.g., 1,000 or more), and calculate the sample mean for each resample.\n",
    "\n",
    "Step2\n",
    "Sort the Bootstrapped Means: Once you have the means from all the bootstrapped samples, arrange them in ascending order.\n",
    "\n",
    "Step3\n",
    "Identify the 2.5th and 97.5th Percentiles: To capture the 95% confidence interval, exclude the lowest 2.5% and the highest 2.5% of the sorted bootstrapped means. The value at the 2.5th percentile serves as the lower bound, and the value at the 97.5th percentile is the upper bound.\n",
    "\n",
    "Step4\n",
    "Interpret the Interval: The range between the 2.5th and 97.5th percentiles represents the 95% bootstrapped confidence interval for the mean. This interval gives an empirical estimate of where 95% of the bootstrapped means fall, providing a confidence interval without using the standard error."
   ]
  },
  {
   "cell_type": "markdown",
   "id": "59a3cefa",
   "metadata": {},
   "source": [
    "Link for Q2 & Q3 with chatgpt:\n",
    "https://chatgpt.com/share/66fbc063-0dfc-8010-a5a5-2024a0b3aac5"
   ]
  },
  {
   "cell_type": "markdown",
   "id": "2b474fda",
   "metadata": {},
   "source": [
    "Abstract for Q2 & Q3 with chatgpt:"
   ]
  },
  {
   "cell_type": "markdown",
   "id": "562feb24",
   "metadata": {},
   "source": [
    "Here's a complete summary of our exchanges regarding the creation of confidence intervals using the \"standard error of the mean\" and the bootstrapping method:\n",
    "\n",
    "1. Standard Error of the Mean and Confidence Interval\n",
    "You asked how to use the \"standard error of the mean\" (SEM) to create a 95% confidence interval, specifically one that covers 95% of bootstrapped sample means.\n",
    "\n",
    "Steps:\n",
    "Calculate SEM: \n",
    "SEM\n",
    "=\n",
    "𝜎\n",
    "𝑛\n",
    "SEM= \n",
    "n\n",
    "​\n",
    " \n",
    "σ\n",
    "​\n",
    " , where \n",
    "𝜎\n",
    "σ is the sample standard deviation, and \n",
    "𝑛\n",
    "n is the sample size.\n",
    "Determine the critical value: For a 95% confidence interval, use \n",
    "𝑧\n",
    "=\n",
    "1.96\n",
    "z=1.96.\n",
    "Construct the interval: Use the formula: \n",
    "𝑥\n",
    "ˉ\n",
    "±\n",
    "𝑧\n",
    "×\n",
    "SEM\n",
    "x\n",
    "ˉ\n",
    " ±z×SEM, where \n",
    "𝑥\n",
    "ˉ\n",
    "x\n",
    "ˉ\n",
    "  is the sample mean and \n",
    "SEM\n",
    "SEM is the standard error.\n",
    "Example: For a sample mean (\n",
    "𝑥\n",
    "ˉ\n",
    "x\n",
    "ˉ\n",
    " ) of 100, and SEM of 2, the 95% confidence interval would be \n",
    "100\n",
    "±\n",
    "1.96\n",
    "×\n",
    "2\n",
    "=\n",
    "[\n",
    "96.08\n",
    ",\n",
    "103.92\n",
    "]\n",
    "100±1.96×2=[96.08,103.92].\n",
    "This interval would cover approximately 95% of the bootstrapped sample means because it reflects the range where most of the means fall, given the variability captured by the SEM.\n",
    "\n",
    "2. Bootstrapped Confidence Interval without SEM\n",
    "You then asked how to create a 95% bootstrapped confidence interval using bootstrapped means, without relying on their standard deviation to estimate the standard error of the mean.\n",
    "\n",
    "Steps for Percentile Method:\n",
    "Generate Bootstrapped Samples: Resample your original data many times (e.g., 1,000 times) and calculate the sample mean for each resample.\n",
    "Sort Bootstrapped Means: Arrange the bootstrapped means in ascending order.\n",
    "Find the Percentiles: Identify the 2.5th percentile (lower bound) and the 97.5th percentile (upper bound) of the sorted bootstrapped means. These are the bounds of the 95% confidence interval.\n",
    "Example: If the 2.5th percentile is 92.1 and the 97.5th percentile is 107.2, then the 95% bootstrapped confidence interval would be \n",
    "[\n",
    "92.1\n",
    ",\n",
    "107.2\n",
    "]\n",
    "[92.1,107.2].\n",
    "This method directly uses the empirical distribution of the bootstrapped means, avoiding the need for SEM and providing a non-parametric confidence interval.\n",
    "\n",
    "This summary captures the key points of our discussions on how to create confidence intervals both using the SEM and bootstrapping techniques."
   ]
  },
  {
   "cell_type": "markdown",
   "id": "59691df4",
   "metadata": {},
   "source": [
    "4. The \"Pre-lecture\" video (above) mentioned that bootstrap confidence intervals could apply to other statistics of the sample, such as the \"median\". Work with a ChatBot to create code to produce a 95% bootstrap confidence interval for a population mean based on a sample that you have and comment the code to demonstrate how the code can be changed to produce a 95% bootstrap confidence interval for different population parameter (other than the population mean, such as the population median)."
   ]
  },
  {
   "cell_type": "code",
   "execution_count": 1,
   "id": "362b2571",
   "metadata": {},
   "outputs": [
    {
     "name": "stdout",
     "output_type": "stream",
     "text": [
      "95% Bootstrap Confidence Interval for the Mean: (9.3, 12.302499999999998)\n",
      "95% Bootstrap Confidence Interval for the Median: (8.5, 13.5)\n"
     ]
    }
   ],
   "source": [
    "import numpy as np\n",
    "\n",
    "# Function to calculate a bootstrap confidence interval for a population parameter\n",
    "def bootstrap_ci(data, stat_function=np.mean, n_bootstrap=1000, ci_level=0.95):\n",
    "    \"\"\"This function computes a bootstrap confidence interval for a given statistic\n",
    "    (such as the mean or median) using resampling with replacement.\n",
    "    \n",
    "    Parameters:\n",
    "    data: The sample data from which to estimate the confidence interval. It should be an iterable (e.g. list, array) of numerical values.\n",
    "    stat_function: The statistic you want to calculate for each bootstrap sample.\n",
    "                     By default, it calculates the mean, but you can pass other functions like np.median, np.std.\n",
    "    n_bootstrap: The number of bootstrap samples to generate. Higher values give a more stable estimate, but take more time.\n",
    "    ci_level: The desired confidence level (e.g. 0.95 for a 95% confidence interval). This determines the range of the interval.\n",
    "\n",
    "    Returns a tuple containing the lower and upper bounds of the bootstrap confidence interval.\n",
    "    \"\"\"\n",
    "    \n",
    "    # Create an empty list to store the statistic calculated from each bootstrap sample\n",
    "    bootstrap_statistics = []\n",
    "    \n",
    "    # Generate 'n_bootstrap' bootstrap samples by randomly resampling the original data with replacement\n",
    "    for _ in range(n_bootstrap):\n",
    "        # Create a bootstrap sample by randomly picking values from 'data' with replacement\n",
    "        bootstrap_sample = np.random.choice(data, size=len(data), replace=True)\n",
    "        \n",
    "        # Calculate the statistic (e.g., mean, median) for this particular bootstrap sample\n",
    "        stat_value = stat_function(bootstrap_sample)\n",
    "        \n",
    "        # Store the calculated statistic in our list\n",
    "        bootstrap_statistics.append(stat_value)\n",
    "    \n",
    "    # Compute the percentiles for the confidence interval based on the desired 'ci_level':\n",
    "    \n",
    "    # The lower percentile is calculated as (1 - ci_level) / 2 * 100, which for a 95% CI is 2.5%\n",
    "    lower_percentile = (1 - ci_level) / 2 * 100\n",
    "    # The upper percentile is (ci_level + (1 - ci_level) / 2) * 100, which for a 95% CI is 97.5%\n",
    "    upper_percentile = (ci_level + (1 - ci_level) / 2) * 100\n",
    "    \n",
    "    # Extract the corresponding percentiles from the list of bootstrap statistics to get the confidence interval\n",
    "    lower_bound = np.percentile(bootstrap_statistics, lower_percentile)\n",
    "    upper_bound = np.percentile(bootstrap_statistics, upper_percentile)\n",
    "    \n",
    "    # Return the lower and upper bounds of the confidence interval\n",
    "    return lower_bound, upper_bound\n",
    "\n",
    "# Example usage with a sample dataset\n",
    "sample_data = [12, 7, 9, 14, 8, 10, 15, 11, 13, 9]\n",
    "\n",
    "# Compute a 95% bootstrap confidence interval for the mean of the sample data\n",
    "ci_mean = bootstrap_ci(sample_data, stat_function=np.mean, n_bootstrap=1000, ci_level=0.95)\n",
    "print(f\"95% Bootstrap Confidence Interval for the Mean: {ci_mean}\")\n",
    "\n",
    "# If we want to compute a 95% bootstrap confidence interval for a different statistic, such as the median,\n",
    "# we can pass np.median to the 'stat_function' parameter\n",
    "ci_median = bootstrap_ci(sample_data, stat_function=np.median, n_bootstrap=1000, ci_level=0.95)\n",
    "print(f\"95% Bootstrap Confidence Interval for the Median: {ci_median}\")\n"
   ]
  },
  {
   "cell_type": "markdown",
   "id": "78b42af9",
   "metadata": {},
   "source": [
    "Overall Explanation:"
   ]
  },
  {
   "cell_type": "markdown",
   "id": "1dfef00f",
   "metadata": {},
   "source": [
    "Resampling with Replacement: The code creates new datasets by repeatedly sampling from the original data, with replacement, which means that some data points might appear more than once. This mimics the variation you will see if you kept drawing different samples from the population."
   ]
  },
  {
   "cell_type": "markdown",
   "id": "a594dcd7",
   "metadata": {},
   "source": [
    "Statistic Calculation: For each of these resampled datasets, the function computes a specific statistic (e.g. the mean, the median, standard deviation...). This process generates a distribution of that statistic across all the bootstrap samples."
   ]
  },
  {
   "cell_type": "markdown",
   "id": "28342595",
   "metadata": {},
   "source": [
    "Percentile Method: Once the statistics are calculated for all the bootstrap samples, the values are sorted, and the function identifies the percentiles corresponding to the confidence level you want. For a 95% confidence interval, the lower bound is set at the 2.5th percentile and the upper bound at the 97.5th percentile."
   ]
  },
  {
   "cell_type": "markdown",
   "id": "a45792f5",
   "metadata": {},
   "source": [
    "To calculate the confidence interval for a different population parameter, such as the median, just simply change the stat_function from np.mean to np.median."
   ]
  },
  {
   "cell_type": "markdown",
   "id": "887390c8",
   "metadata": {},
   "source": [
    "Link for Q4 with chatgpt:\n",
    "https://chatgpt.com/share/66fbc953-1808-8010-b602-df875704f9d0"
   ]
  },
  {
   "cell_type": "markdown",
   "id": "86576200",
   "metadata": {},
   "source": [
    "Abstract for Q4 with chatgpt:"
   ]
  },
  {
   "cell_type": "markdown",
   "id": "a3b7c9d1",
   "metadata": {},
   "source": [
    "Here is a complete summary of our exchanges in this session:\n",
    "\n",
    "Request to create a 95% bootstrap confidence interval for a population mean:\n",
    "\n",
    "You asked for Python code to calculate a 95% bootstrap confidence interval for the population mean based on a sample.\n",
    "I provided the Python code with detailed comments explaining the steps.\n",
    "The code also included comments showing how to modify it to compute a 95% bootstrap confidence interval for different population parameters, such as the median.\n",
    "The code uses the np.mean function for the population mean and can be modified to use np.median to calculate the confidence interval for the population median.\n",
    "Explanation of the code:\n",
    "\n",
    "I explained how the stat_function parameter allows you to choose the statistic to calculate, like the mean or median.\n",
    "I also provided a breakdown of how the bootstrap process works by generating resamples and computing the desired statistic.\n",
    "The calculation of the confidence interval based on the percentiles of the bootstrap distribution was explained (e.g., 2.5th and 97.5th percentiles for a 95% confidence level)."
   ]
  },
  {
   "cell_type": "markdown",
   "id": "bcfc83f5",
   "metadata": {},
   "source": [
    "5. The previous question addresses making a confidence interval for a population parameter based on a sample statistic. Why do we need to distinguish between the role of the popualation parameter and the sample sample statistic when it comes to confidence intervals? Explain this concisely in your own words."
   ]
  },
  {
   "cell_type": "markdown",
   "id": "3c01b789",
   "metadata": {},
   "source": [
    "Understanding the difference between a population parameter and a sample statistic is essential when working with confidence intervals for a few reasons:\n",
    "\n",
    "1.The Population Parameter is Unknown: The population parameter (like the true mean or proportion) is what we're trying to estimate but cannot know exactly because we typically don’t have access to the entire population.\n",
    "\n",
    "2.The Sample Statistic is an Estimate: A sample statistic (like the sample mean or proportion) is calculated from a subset of the population and serves as our best guess for the population parameter. However, it's just an estimate and subject to variation due to the randomness of sampling.\n",
    "\n",
    "3.Confidence Intervals Reflect Uncertainty: A confidence interval provides a range of likely values for the population parameter, acknowledging that the sample statistic is not an exact reflection of the population parameter. It helps measure the uncertainty of this estimate.\n",
    "\n",
    "4.Sampling Variability: Every time a new sample is taken, the sample statistic will likely differ. Confidence intervals account for this variability by offering a range that, if repeated over many samples, would include the true population parameter a certain percentage of the time (e.g., 95%)."
   ]
  },
  {
   "cell_type": "markdown",
   "id": "a87ef638",
   "metadata": {},
   "source": [
    "Link for Q5 with chatgpt:\n",
    "https://chatgpt.com/share/66fbcc6a-7754-8010-a3a9-f7785d30514e"
   ]
  },
  {
   "cell_type": "markdown",
   "id": "ba1a6067",
   "metadata": {},
   "source": [
    "Abstract for Q5 with chatgpt:"
   ]
  },
  {
   "cell_type": "markdown",
   "id": "c7d494ed",
   "metadata": {},
   "source": [
    "Here's a complete summary of our interactions, focusing on the relevant discussions for your homework assignment:\n",
    "\n",
    "Distinction Between Population Parameter and Sample Statistic in Confidence Intervals (October 2024)\n",
    "We discussed the importance of distinguishing between the population parameter and the sample statistic when it comes to confidence intervals. The key points were:\n",
    "\n",
    "Population Parameter: The true but unknown value we're trying to estimate (e.g., population mean or proportion).\n",
    "Sample Statistic: An estimate derived from a sample (e.g., sample mean or proportion).\n",
    "Confidence Interval: A range of plausible values for the population parameter, reflecting the uncertainty due to sampling variability.\n",
    "Sampling Variability: Different samples yield different statistics, and confidence intervals quantify the uncertainty of the sample-based estimate.\n",
    "The distinction helps to interpret confidence intervals as a way to express uncertainty around the sample statistic in relation to the unknown population parameter.\n",
    "\n",
    "If you'd like, I can add any additional context or references needed for your homework submission. Let me know if this format works or if you'd like further modifications!"
   ]
  },
  {
   "cell_type": "markdown",
   "id": "115edefa",
   "metadata": {},
   "source": [
    "6. Provide written answers explaining the answers to the following questions in an informal manner of a conversation with a friend with little experience with statistics."
   ]
  },
  {
   "cell_type": "markdown",
   "id": "61dcff54",
   "metadata": {},
   "source": [
    "What is the process of bootstrapping?"
   ]
  },
  {
   "cell_type": "markdown",
   "id": "082e2a6b",
   "metadata": {},
   "source": [
    "Okay, so bootstrapping is like this: Imagine you only have a small bit of data, but you want to figure out something about a much bigger group. Since you don’t have all the data, what you can do is take that small sample and randomly pick data points from it over and over—kind of like drawing names from a hat, but you put the name back after each draw. Sometimes the same thing gets picked more than once. You do this a bunch of times, and each time you calculate whatever you’re trying to figure out, like the average. After doing this a lot, you end up with a whole bunch of estimates, which gives you a better idea of what the full population might look like, even though you only have a small part of it."
   ]
  },
  {
   "cell_type": "markdown",
   "id": "f4ecae7a",
   "metadata": {},
   "source": [
    "What is the main purpose of bootstrapping?"
   ]
  },
  {
   "cell_type": "markdown",
   "id": "49494065",
   "metadata": {},
   "source": [
    "The main purpose of bootstrapping is to recognize how reliable your estimate is. When you only have a small sample, you cannot be 100% sure how close your guess is to the true value for the whole group. Bootstrapping helps you figure out how much your estimates might be around. It’s super handy when you don’t have a lot of data or cannot make usual assumptions about how the data behaves."
   ]
  },
  {
   "cell_type": "markdown",
   "id": "8abedb96",
   "metadata": {},
   "source": [
    "If you had a (hypothesized) guess about what the average of a population was, and you had a sample of size n from that population, how could you use bootstrapping to assess whether or not your (hypothesized) guess might be plausible?"
   ]
  },
  {
   "cell_type": "markdown",
   "id": "0d9d60e5",
   "metadata": {},
   "source": [
    "If i have a guess about what the average of a whole group is, but i only have a little bit of data from that group. To check if my guess is reliable, bootstrapping must be the best way. Here’s what i would do:\n",
    "Firstly, i'll take my small sample and randomly pick from it to create new “bootstrapped” samples for many times. Each time i create a new sample, i'll calculate the average. After doing this a bunch of times, i’ll get a whole bunch of different averages. Then i can compare my original guess to the averages from all these bootstrapped samples. If my guess is close to most of them, it’s probably a good guess. But if it’s way off compared to these new averages, then the guess might not be so accurate."
   ]
  },
  {
   "cell_type": "markdown",
   "id": "9a7987b4",
   "metadata": {},
   "source": [
    "7. The \"Pre-lecture\" video (above) introduced hypothesis testing by saying that \"the confidence interval covers zero, so we cannot reject the hypothesis that the drug is [on average] not doing anything\". This conclusion could be referred to as \"failing to reject the null hypothesis\", where the term \"null\" refers to the concept of \"no effect [on average]\". Why does a confidence interval overlapping zero \"fail to reject the null hypothesis\" when the observed sample mean statistic itself is not zero? Alternatively, what would lead to the opposite conclusion in this context; namely, instead choosing \"to reject the null hypothesis\"? Explain the answers to these questions concisely in your own words."
   ]
  },
  {
   "cell_type": "markdown",
   "id": "55b02f1a",
   "metadata": {},
   "source": [
    "Failing to Reject the Null Hypothesis (when the CI includes zero):\n",
    "\n",
    "A confidence interval offers a range of values that are likely for the population parameter, such as the mean. If zero is within this interval, it means that zero is a reasonable estimate of the parameter based on the data. In hypothesis testing, the null hypothesis usually assumes the parameter is zero. When zero is part of the confidence interval, the data doesn’t provide enough evidence to suggest the parameter is different from zero. Even though the sample mean might not be zero, the variability shown by the confidence interval implies that the true population mean could still be zero. Therefore, you fail to reject the null hypothesis because zero remains a possible value for the population mean.\n",
    "\n",
    "Rejecting the Null Hypothesis (when the CI excludes zero):\n",
    "\n",
    "If the confidence interval excludes zero, it indicates that zero is not a reasonable value for the population parameter. This supports the conclusion that the population mean or another parameter is significantly different from zero. In this case, the null hypothesis is rejected because the data strongly suggest that the parameter differs from the assumption of the null hypothesis, typically implying it is not zero."
   ]
  },
  {
   "cell_type": "markdown",
   "id": "dbdc7f97",
   "metadata": {},
   "source": [
    "Link for Q7 with chatgpt:https://chatgpt.com/share/66fd8b20-df94-8010-8c5e-5a4bce3b9bb0"
   ]
  },
  {
   "cell_type": "markdown",
   "id": "23f23554",
   "metadata": {},
   "source": [
    "Abstract for Q7 with chatgpt:"
   ]
  },
  {
   "cell_type": "markdown",
   "id": "657e443e",
   "metadata": {},
   "source": [
    "Here's a summary of our conversation:\n",
    "\n",
    "You asked about why a confidence interval overlapping zero leads to failing to reject the null hypothesis, even when the observed sample mean is not zero. I explained that:\n",
    "\n",
    "A confidence interval provides a range of plausible values for the population parameter (e.g., mean).\n",
    "If zero is included in the interval, it means zero could be a true value of the population parameter, leading to failing to reject the null hypothesis.\n",
    "The sample mean may not be zero, but the variability in the data still makes zero a plausible value.\n",
    "On the other hand, if the confidence interval does not include zero, this suggests zero is not plausible, leading to rejecting the null hypothesis.\n",
    "The decision hinges on whether zero is included in the confidence interval."
   ]
  },
  {
   "cell_type": "markdown",
   "id": "373a1bc1",
   "metadata": {},
   "source": [
    "8. Complete the assignment.\n",
    "Vaccine Data Analysis Assignment"
   ]
  },
  {
   "cell_type": "markdown",
   "id": "f87c8754",
   "metadata": {},
   "source": [
    "Null Hypothesis of \"No Effect\":"
   ]
  },
  {
   "cell_type": "markdown",
   "id": "6a5545d9",
   "metadata": {},
   "source": [
    "The null hypothesis in this case states that the vaccine has no impact on patients' health scores. In simpler terms, it assumes that any difference in health scores between the initial and final measurements is just random variation, not an effect of the vaccine. We'll use statistical analysis to determine whether we can reject this hypothesis or not."
   ]
  },
  {
   "cell_type": "markdown",
   "id": "0b49ba37",
   "metadata": {},
   "source": [
    "Data Visualization:"
   ]
  },
  {
   "cell_type": "markdown",
   "id": "8628de45",
   "metadata": {},
   "source": [
    "Begin by looking at the initial and final health scores to get a general idea of the data and see if there's any noticeable trend. We can create histograms or box plots to visualize how the scores are distributed before and after the vaccine was given."
   ]
  },
  {
   "cell_type": "code",
   "execution_count": 6,
   "id": "6bc4f2bb",
   "metadata": {},
   "outputs": [],
   "source": [
    "import pandas as pd\n",
    "\n",
    "# Create the data for the CSV\n",
    "data = {\n",
    "    'PatientID': [1, 2, 3, 4, 5, 6, 7, 8, 9, 10],\n",
    "    'Age': [45, 34, 29, 52, 37, 41, 33, 48, 26, 39],\n",
    "    'Gender': ['M', 'F', 'M', 'F', 'M', 'F', 'M', 'F', 'M', 'F'],\n",
    "    'InitialHealthScore': [84, 78, 83, 81, 81, 80, 79, 85, 76, 83],\n",
    "    'FinalHealthScore': [86, 86, 80, 86, 84, 86, 86, 82, 83, 84]\n",
    "}\n",
    "\n",
    "# Convert to DataFrame\n",
    "df = pd.DataFrame(data)\n",
    "\n",
    "# Save to CSV file\n",
    "df.to_csv('vaccine_data.csv', index=False)\n"
   ]
  },
  {
   "cell_type": "code",
   "execution_count": 7,
   "id": "e98c546f",
   "metadata": {},
   "outputs": [
    {
     "data": {
      "image/png": "[encoded data removed]",
      "text/plain": [
       "<Figure size 1200x600 with 2 Axes>"
      ]
     },
     "metadata": {},
     "output_type": "display_data"
    }
   ],
   "source": [
    "# Visualizing initial vs final health scores\n",
    "plt.figure(figsize=(12, 6))\n",
    "\n",
    "plt.subplot(1, 2, 1)\n",
    "plt.hist(data['InitialHealthScore'], bins=10, color='blue', alpha=0.7)\n",
    "plt.title('Initial Health Score Distribution')\n",
    "plt.xlabel('Initial Health Score')\n",
    "plt.ylabel('Frequency')\n",
    "\n",
    "plt.subplot(1, 2, 2)\n",
    "plt.hist(data['FinalHealthScore'], bins=10, color='green', alpha=0.7)\n",
    "plt.title('Final Health Score Distribution')\n",
    "plt.xlabel('Final Health Score')\n",
    "plt.ylabel('Frequency')\n",
    "\n",
    "plt.tight_layout()\n",
    "plt.show()\n"
   ]
  },
  {
   "cell_type": "markdown",
   "id": "ec5f7137",
   "metadata": {},
   "source": [
    "Quantitative Analysis:"
   ]
  },
  {
   "cell_type": "markdown",
   "id": "182f008c",
   "metadata": {},
   "source": [
    "We'll use bootstrapping to check if the changes in health scores are statistically significant.\n",
    "\n",
    "Bootstrapping Steps:\n",
    "\n",
    "1. Randomly take samples from the observed data, allowing repeats.\n",
    "2. For each sample, calculate the average difference between the final and initial health scores.\n",
    "3. Repeat this many times (e.g., 10,000 times) to create a distribution of these average differences.\n",
    "4. From this distribution, we can find the confidence interval for the average difference.\n",
    "\n",
    "Method:\n",
    "\n",
    "1. Find the average difference between the initial and final health scores.\n",
    "2. Use bootstrapping to create a distribution of these average differences.\n",
    "3. Use that distribution to determine the confidence interval for the average difference."
   ]
  },
  {
   "cell_type": "markdown",
   "id": "2d613e29",
   "metadata": {},
   "source": [
    "Code for Bootstrapping and Supporting Visualization:"
   ]
  },
  {
   "cell_type": "code",
   "execution_count": 8,
   "id": "b0f3ba43",
   "metadata": {},
   "outputs": [
    {
     "name": "stdout",
     "output_type": "stream",
     "text": [
      "Mean difference: 3.3\n",
      "95% Confidence Interval: [0.7, 5.5]\n"
     ]
    },
    {
     "data": {
      "image/png": "[encoded data removed]",
      "text/plain": [
       "<Figure size 640x480 with 1 Axes>"
      ]
     },
     "metadata": {},
     "output_type": "display_data"
    }
   ],
   "source": [
    "import pandas as pd\n",
    "import numpy as np\n",
    "import matplotlib.pyplot as plt\n",
    "\n",
    "# Load the data\n",
    "data = pd.read_csv('vaccine_data.csv')\n",
    "\n",
    "# Convert the columns to NumPy arrays (optional but recommended)\n",
    "initial_health = np.array(data['InitialHealthScore'])\n",
    "final_health = np.array(data['FinalHealthScore'])\n",
    "\n",
    "# Compute the actual difference in health scores\n",
    "differences = final_health - initial_health  # Now, this works correctly\n",
    "actual_mean_diff = np.mean(differences)\n",
    "\n",
    "# Set seed for reproducibility\n",
    "np.random.seed(42)\n",
    "\n",
    "# Bootstrap resampling\n",
    "bootstrap_means = []\n",
    "n_iterations = 1000\n",
    "for _ in range(n_iterations):\n",
    "    bootstrap_sample = np.random.choice(differences, size=len(differences), replace=True)\n",
    "    bootstrap_means.append(np.mean(bootstrap_sample))\n",
    "\n",
    "# Confidence intervals\n",
    "lower_bound = np.percentile(bootstrap_means, 2.5)\n",
    "upper_bound = np.percentile(bootstrap_means, 97.5)\n",
    "\n",
    "# Print the results\n",
    "print(f\"Mean difference: {actual_mean_diff}\")\n",
    "print(f\"95% Confidence Interval: [{lower_bound}, {upper_bound}]\")\n",
    "\n",
    "# Visualization\n",
    "plt.hist(bootstrap_means, bins=30, color='purple', alpha=0.7)\n",
    "plt.axvline(actual_mean_diff, color='red', linestyle='dashed', linewidth=2, label='Actual Mean Difference')\n",
    "plt.axvline(lower_bound, color='green', linestyle='dashed', linewidth=2, label='Lower CI')\n",
    "plt.axvline(upper_bound, color='green', linestyle='dashed', linewidth=2, label='Upper CI')\n",
    "plt.title('Bootstrap Mean Differences')\n",
    "plt.xlabel('Mean Difference')\n",
    "plt.ylabel('Frequency')\n",
    "plt.legend()\n",
    "plt.show()"
   ]
  },
  {
   "cell_type": "markdown",
   "id": "76165928",
   "metadata": {},
   "source": [
    "Findings and Discussion:"
   ]
  },
  {
   "cell_type": "markdown",
   "id": "9cfa7adc",
   "metadata": {},
   "source": [
    "Mean Difference: After performing the bootstrap analysis, we find the actual mean difference between the initial and final health scores. If the 95% confidence interval doesn’t include zero, it suggests we have enough evidence to reject the null hypothesis.\n",
    "\n",
    "Confidence Interval: If the interval is entirely above zero, it indicates that the vaccine is likely effective in improving health scores."
   ]
  },
  {
   "cell_type": "markdown",
   "id": "9a811c2e",
   "metadata": {},
   "source": [
    "Conclusion Regarding the Null Hypothesis:"
   ]
  },
  {
   "cell_type": "markdown",
   "id": "cb19ebd3",
   "metadata": {},
   "source": [
    "If the 95% confidence interval doesn’t include zero, we can reject the null hypothesis and conclude that the vaccine has a statistically significant effect on patients' health scores. But if the interval does include zero, we cannot reject the null hypothesis, meaning the effect of the vaccine isn't statistically significant."
   ]
  },
  {
   "cell_type": "markdown",
   "id": "8d2c8f1f",
   "metadata": {},
   "source": [
    "Further Considerations:"
   ]
  },
  {
   "cell_type": "markdown",
   "id": "618444a6",
   "metadata": {},
   "source": [
    "We have to think about whether factors like age, gender, or starting health scores could influence the vaccine’s effectiveness. A more advanced analysis, such as a regression model, could account for these variables. Also, we should consider if there are any outliers in the data. Do they affect the conclusions? Should they be removed or analyzed separately?"
   ]
  },
  {
   "cell_type": "markdown",
   "id": "02d90056",
   "metadata": {},
   "source": [
    "Link for Q8 with chatgpt:https://chatgpt.com/share/66fd904f-7d58-8010-a5bb-4c5e49cf44c4"
   ]
  },
  {
   "cell_type": "markdown",
   "id": "29ad81b3",
   "metadata": {},
   "source": [
    "Abstract for Q8 with chatgpt:"
   ]
  },
  {
   "cell_type": "markdown",
   "id": "f4d6f686",
   "metadata": {},
   "source": [
    "Here's a summary of our conversation:\n",
    "\n",
    "You provided an assignment involving vaccine data analysis, where the goal is to assess the effectiveness of a new vaccine based on patients' health scores before and after vaccination. The deliverables included creating visualizations, conducting a quantitative analysis (using bootstrapping), and drawing conclusions about the null hypothesis of \"no effect.\"\n",
    "\n",
    "I provided a detailed solution that included:\n",
    "\n",
    "Instructions to load the data,\n",
    "Visualization of the Initial and Final Health Scores using scatter plots and bar charts,\n",
    "A bootstrapping approach to analyze the difference in health scores,\n",
    "A conclusion on the null hypothesis based on a 95% confidence interval.\n",
    "You encountered a NameError due to the data not being defined properly, so I suggested defining the dataset manually in the code rather than reading from a CSV file. The updated solution included loading the data manually and running the analysis using bootstrapping."
   ]
  },
  {
   "cell_type": "markdown",
   "id": "b711bd79",
   "metadata": {},
   "source": [
    "9. Have you reviewed the course wiki-textbook and interacted with a ChatBot (or, if that wasn't sufficient, real people in the course piazza discussion board or TA office hours) to help you understand all the material in the tutorial and lecture that you didn't quite follow when you first saw it?"
   ]
  },
  {
   "cell_type": "markdown",
   "id": "3bf8e44e",
   "metadata": {},
   "source": [
    "yes i communicared with chatgpt, and i also went to the TA OH for some confusions related to this week's materials."
   ]
  }
 ],
 "metadata": {
  "kernelspec": {
   "display_name": "Python 3 (ipykernel)",
   "language": "python",
   "name": "python3"
  },
  "language_info": {
   "codemirror_mode": {
    "name": "ipython",
    "version": 3
   },
   "file_extension": ".py",
   "mimetype": "text/x-python",
   "name": "python",
   "nbconvert_exporter": "python",
   "pygments_lexer": "ipython3",
   "version": "3.11.6"
  }
 },
 "nbformat": 4,
 "nbformat_minor": 5
}
