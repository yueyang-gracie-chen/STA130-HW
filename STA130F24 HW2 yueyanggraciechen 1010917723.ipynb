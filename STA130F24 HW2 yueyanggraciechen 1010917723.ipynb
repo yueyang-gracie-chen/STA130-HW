{
 "cells": [
  {
   "cell_type": "markdown",
   "id": "2e0941c7",
   "metadata": {},
   "source": [
    "1. Begin (or restart) part \"3(a)\" of the TUT Demo and interact with a ChatBot to make sure you understand how each part the Monte Hall problem code above works"
   ]
  },
  {
   "cell_type": "code",
   "execution_count": 2,
   "id": "0f634750",
   "metadata": {},
   "outputs": [
    {
     "data": {
      "text/plain": [
       "0.6665"
      ]
     },
     "execution_count": 2,
     "metadata": {},
     "output_type": "execute_result"
    }
   ],
   "source": [
    "import numpy as np  # Import numpy for random choices and array operations\n",
    "\n",
    "all_door_options = (1, 2, 3)  # The tuple represents the three doors, one of which has the prize\n",
    "my_door_choice = 1  # The player starts by choosing door 1, which can be any of 1, 2, or 3\n",
    "i_won = 0  # Record of how many times the player wins when following the strategy\n",
    "reps = 100000  # Number of repetitions or trials (the more, the better the simulation)\n",
    "\n",
    "# Loop through the game process 'reps' times\n",
    "for i in range(reps):\n",
    "    secret_winning_door = np.random.choice(all_door_options)  # Randomly select which door has the prize\n",
    "    \n",
    "    all_door_options_list = list(all_door_options)  # Convert the tuple to a list so we can manipulate it\n",
    "\n",
    "    # Remove the door with the prize from the list of all doors temporarily so that it can't be revealed\n",
    "    all_door_options_list.remove(secret_winning_door)\n",
    "    \n",
    "    try:\n",
    "        # Try to remove the player's chosen door from the list of remaining doors (if it's not already removed)\n",
    "        # If the chosen door is the winning one, it won't be removed twice (hence the try-except).\n",
    "        all_door_options_list.remove(my_door_choice)\n",
    "    except:\n",
    "        pass  # If there's an exception (door not in the list), just continue, no action is needed\n",
    "    \n",
    "    # Randomly choose one of the remaining doors to \"reveal\" as a goat door (i.e., not the prize)\n",
    "    goat_door_reveal = np.random.choice(all_door_options_list)\n",
    "    \n",
    "    # Remove the revealed goat door from the list so that the only remaining door is the unchosen one\n",
    "    all_door_options_list.remove(goat_door_reveal)\n",
    "\n",
    "    # Now decide whether or not to switch to the remaining unchosen door\n",
    "    # If the secret winning door wasn't initially chosen, we add it back as the remaining option to switch to\n",
    "    if secret_winning_door != my_door_choice:\n",
    "        all_door_options_list.append(secret_winning_door)\n",
    "    \n",
    "    # Now, 'all_door_options_list' has exactly one door left (the unchosen door).\n",
    "    # Simulate switching by changing 'my_door_choice' to this door\n",
    "    my_door_choice = all_door_options_list[0]  # Switch to the remaining door\n",
    "\n",
    "    # Check if our new choice matches the door with the prize\n",
    "    if my_door_choice == secret_winning_door:\n",
    "        i_won += 1  # If we guessed correctly (after switching), increment the win counter\n",
    "\n",
    "# Calculate the proportion of wins over the total repetitions\n",
    "i_won / reps  # This gives the probability of winning by always switching\n"
   ]
  },
  {
   "cell_type": "markdown",
   "id": "fff1a2ac",
   "metadata": {},
   "source": [
    "Summary for the steps:\n",
    "1)set one of the three doors a prize randomly\n",
    "2)set the player's first selection, which is always door1 here\n",
    "3)Reveal one of the other two doors that doesn't have the prize\n",
    "4)simulate switching to the door left\n",
    "5)record the result (win or loss)\n",
    "6)repeat the process and calculate the probability of winning for switching all the time"
   ]
  },
  {
   "cell_type": "markdown",
   "id": "5ee86c8a",
   "metadata": {},
   "source": [
    "2. Extend your ChatBot sessions to now address part \"3(b)\" of the TUT Demo and interact with your ChatBot to see if it can suggest a simpler, more streamlined way to code up this for loop simulation so the process is more clear and easier to understand; then, describe any preferences you have in terms of readibility or explainability between the original code and the code improvements suggested by the ChatBot"
   ]
  },
  {
   "cell_type": "code",
   "execution_count": 3,
   "id": "6a608103",
   "metadata": {},
   "outputs": [
    {
     "data": {
      "text/plain": [
       "0.66785"
      ]
     },
     "execution_count": 3,
     "metadata": {},
     "output_type": "execute_result"
    }
   ],
   "source": [
    "import numpy as np  # Import numpy for generating random choices\n",
    "\n",
    "# Simulation parameters\n",
    "doors = [1, 2, 3]  # List of available doors (1, 2, 3)\n",
    "reps = 100000  # Number of repetitions (the more, the more accurate)\n",
    "wins_when_switching = 0  # Counter to track wins when we switch\n",
    "\n",
    "# Simulation loop\n",
    "for _ in range(reps):\n",
    "    # Step 1: Randomly choose a door that hides the prize\n",
    "    winning_door = np.random.choice(doors)\n",
    "    \n",
    "    # Step 2: Player makes an initial choice (let's assume it's always door 1 for simplicity)\n",
    "    player_choice = 1\n",
    "    \n",
    "    # Step 3: Host reveals a goat door (one of the remaining doors that doesn't have the prize)\n",
    "    remaining_doors = [door for door in doors if door != player_choice and door != winning_door]\n",
    "    goat_door_reveal = np.random.choice(remaining_doors)\n",
    "    \n",
    "    # Step 4: Switch choice - switch to the remaining unopened door\n",
    "    switched_choice = [door for door in doors if door != player_choice and door != goat_door_reveal][0]\n",
    "    \n",
    "    # Step 5: Check if switching results in a win\n",
    "    if switched_choice == winning_door:\n",
    "        wins_when_switching += 1  # Count as a win if the switched door is the winning door\n",
    "\n",
    "# Final result: Calculate win percentage when switching\n",
    "win_percentage_when_switching = wins_when_switching / reps\n",
    "win_percentage_when_switching\n"
   ]
  },
  {
   "cell_type": "markdown",
   "id": "e232cb8e",
   "metadata": {},
   "source": [
    "There are some advantages in the original code, for example, the process of it is detailed and shown step-by-step, including how doors are taken off the list and how the host's actions are simulated.\n",
    "\n",
    "However, even though I found the code in step 3 was a bit hard to think at first (confusion has been solved after I asked chatgpt to give me detailed explanation), I still prefer the improved code with the following reasons:\n",
    "1)Efficiency: The list of doors goes through fewer operations. For example, it is easier to identify the goat door using list comprehension than removing doors one at a time.\n",
    "2)Reduction of error: List comprehensions are used to directly choose the remaining doors rather than changing the original list of doors. This lowers the possibility of mistakes. In addition, there is no try-except in the improved version, which makes the code less likely to have potential errors.\n",
    "3)Readibility: Because there are no many list operations and the steps try-except for safety like in the first version, the improved one is simplier to follow."
   ]
  },
  {
   "cell_type": "markdown",
   "id": "bb98507c",
   "metadata": {},
   "source": [
    "3. Submit your preferred version of the Monty Hall problem that is verified to be running and working with a final printed output of the code; then, add code comments explaining the purpose of each line of the code"
   ]
  },
  {
   "cell_type": "code",
   "execution_count": 1,
   "id": "8abdeadc",
   "metadata": {},
   "outputs": [
    {
     "data": {
      "text/plain": [
       "0.66714"
      ]
     },
     "execution_count": 1,
     "metadata": {},
     "output_type": "execute_result"
    }
   ],
   "source": [
    "import numpy as np  # Use numpy to import random selections\n",
    "\n",
    "# Simulation parameters\n",
    "doors = [1, 2, 3]  # List representing the three doors (1, 2, 3)\n",
    "reps = 100000  # Number of repetitions (the more trials, the better accuracy)\n",
    "wins_when_switching = 0  # Counter that keeps track of how many times the player winS by switching the doors\n",
    "\n",
    "# Simulation loop\n",
    "for _ in range(reps):\n",
    "    # Step 1: Randomly choose a door that hides the prize\n",
    "    winning_door = np.random.choice(doors) # Randomly assign the winning door\n",
    "    \n",
    "    # Step 2: Player chooses a first decision \n",
    "    player_choice = 1 # Assume player always chooses door 1 to simplify the code\n",
    "    \n",
    "    # Step 3: Host reveals a goat door\n",
    "    remaining_doors = [door for door in doors if door != player_choice and door != winning_door] # Determine which of the remaining doors (i.e., they have goats) are neither the player's original option nor the winning door\n",
    "    goat_door_reveal = np.random.choice(remaining_doors) # Host reveals one of these remaining goat doors\n",
    "    \n",
    "    # Step 4: Switch choice  - player chooses the door instead of choosing the first selection or the door revealed by the host\n",
    "    switched_choice = [door for door in doors if door != player_choice and door != goat_door_reveal][0]\n",
    "    \n",
    "    # Step 5: Check the result\n",
    "    if switched_choice == winning_door:\n",
    "        wins_when_switching += 1  # If the switched choice wins, increase the counter by 1\n",
    "\n",
    "# Final result: Calculate win percentage by switching\n",
    "win_percentage_when_switching = wins_when_switching / reps # Once all of the repetitions are completed, divide the number of wins by the total number of repetitions to find the probability of winning when switching doors every time.\n",
    "win_percentage_when_switching\n"
   ]
  },
  {
   "cell_type": "markdown",
   "id": "bb4e1e54",
   "metadata": {},
   "source": [
    "link for Q1-Q3 with chatgpt:\n",
    "https://chatgpt.com/share/66ea654f-13c0-8010-b75d-9af0aaf2e47c"
   ]
  },
  {
   "cell_type": "markdown",
   "id": "d66fbce5",
   "metadata": {},
   "source": [
    "Abstract for Q1-Q3 with chatgpt:"
   ]
  },
  {
   "cell_type": "markdown",
   "id": "6fecac0d",
   "metadata": {},
   "source": [
    "1. Original Code Explanation for the Monty Hall Problem:\n",
    "You provided an initial code for simulating the Monty Hall problem, which I explained in detail. Below is the original code with added detailed comments:"
   ]
  },
  {
   "cell_type": "code",
   "execution_count": null,
   "id": "e99179a5",
   "metadata": {},
   "outputs": [],
   "source": [
    "import numpy as np  # Import numpy for random choices and array operations\n",
    "\n",
    "all_door_options = (1, 2, 3)  # Tuple representing the three doors, one of which has the prize\n",
    "my_door_choice = 1  # You start by choosing door 1 (this can be any of 1, 2, or 3)\n",
    "i_won = 0  # Counter to keep track of how many times we win when following the strategy\n",
    "reps = 100000  # Number of repetitions or trials (the more, the better the simulation)\n",
    "\n",
    "# Loop through the game process 'reps' times\n",
    "for i in range(reps):\n",
    "    secret_winning_door = np.random.choice(all_door_options)  # Randomly select which door has the prize\n",
    "    \n",
    "    all_door_options_list = list(all_door_options)  # Convert the tuple to a list so we can manipulate it\n",
    "\n",
    "    # Remove the door with the prize from the list of all doors temporarily so that it can't be revealed\n",
    "    all_door_options_list.remove(secret_winning_door)\n",
    "    \n",
    "    try:\n",
    "        # Try to remove the player's chosen door from the list of remaining doors (if it's not already removed)\n",
    "        # If the chosen door is the winning one, it won't be removed twice (hence the try-except).\n",
    "        all_door_options_list.remove(my_door_choice)\n",
    "    except:\n",
    "        pass  # If there's an exception (door not in the list), just continue, no action is needed\n",
    "    \n",
    "    # Randomly choose one of the remaining doors to \"reveal\" as a goat door (i.e., not the prize)\n",
    "    goat_door_reveal = np.random.choice(all_door_options_list)\n",
    "    \n",
    "    # Remove the revealed goat door from the list so that the only remaining door is the unchosen one\n",
    "    all_door_options_list.remove(goat_door_reveal)\n",
    "\n",
    "    # Now decide whether or not to switch to the remaining unchosen door\n",
    "    # If the secret winning door wasn't initially chosen, we add it back as the remaining option to switch to\n",
    "    if secret_winning_door != my_door_choice:\n",
    "        all_door_options_list.append(secret_winning_door)\n",
    "    \n",
    "    # Now, 'all_door_options_list' has exactly one door left (the unchosen door).\n",
    "    # Simulate switching by changing 'my_door_choice' to this door\n",
    "    my_door_choice = all_door_options_list[0]  # Switch to the remaining door\n",
    "\n",
    "    # Check if our new choice matches the door with the prize\n",
    "    if my_door_choice == secret_winning_door:\n",
    "        i_won += 1  # If we guessed correctly (after switching), increment the win counter\n",
    "\n",
    "# Calculate the proportion of wins over the total repetitions\n",
    "i_won / reps  # This gives the probability of winning by always switching"
   ]
  },
  {
   "cell_type": "markdown",
   "id": "a8ae6458",
   "metadata": {},
   "source": [
    "2. Streamlined Version of the Monty Hall Simulation:\n",
    "Next, I provided a cleaner, more streamlined version of the code, with clearer logic and better readability:"
   ]
  },
  {
   "cell_type": "code",
   "execution_count": null,
   "id": "d17674c1",
   "metadata": {},
   "outputs": [],
   "source": [
    "import numpy as np  # Import numpy for generating random choices\n",
    "\n",
    "# Simulation parameters\n",
    "doors = [1, 2, 3]  # List of available doors (1, 2, 3)\n",
    "reps = 100000  # Number of repetitions (the more, the more accurate)\n",
    "wins_when_switching = 0  # Counter to track wins when we switch\n",
    "\n",
    "# Simulation loop\n",
    "for _ in range(reps):\n",
    "    # Step 1: Randomly choose a door that hides the prize\n",
    "    winning_door = np.random.choice(doors)\n",
    "    \n",
    "    # Step 2: Player makes an initial choice (let's assume it's always door 1 for simplicity)\n",
    "    player_choice = 1\n",
    "    \n",
    "    # Step 3: Host reveals a goat door (one of the remaining doors that doesn't have the prize)\n",
    "    remaining_doors = [door for door in doors if door != player_choice and door != winning_door]\n",
    "    goat_door_reveal = np.random.choice(remaining_doors)\n",
    "    \n",
    "    # Step 4: Switch choice - switch to the remaining unopened door\n",
    "    switched_choice = [door for door in doors if door != player_choice and door != goat_door_reveal][0]\n",
    "    \n",
    "    # Step 5: Check if switching results in a win\n",
    "    if switched_choice == winning_door:\n",
    "        wins_when_switching += 1  # Count as a win if the switched door is the winning door\n",
    "\n",
    "# Final result: Calculate win percentage when switching\n",
    "win_percentage_when_switching = wins_when_switching / reps\n",
    "win_percentage_when_switching"
   ]
  },
  {
   "cell_type": "markdown",
   "id": "07b65257",
   "metadata": {},
   "source": [
    "3. Explanation of List Comprehension Line:\n",
    "You asked for an explanation of the following line from the streamlined code:"
   ]
  },
  {
   "cell_type": "code",
   "execution_count": null,
   "id": "fd986256",
   "metadata": {},
   "outputs": [],
   "source": [
    "remaining_doors = [door for door in doors if door != player_choice and door != winning_door]"
   ]
  },
  {
   "cell_type": "markdown",
   "id": "22f078bd",
   "metadata": {},
   "source": [
    "Here’s a detailed breakdown:\n",
    "\n",
    "Purpose: This line creates a list of doors that are neither the player's initial choice nor the winning door (i.e., these are the goat doors that can be revealed by the host).\n",
    "\n",
    "List comprehension: door for door in doors loops through each door in the doors list.\n",
    "\n",
    "Condition: The conditions door != player_choice and door != winning_door ensure that only doors that are not the player's choice and not the winning door are included in remaining_doors.\n",
    "\n",
    "Example:\n",
    "If the player's initial choice is door 1 (player_choice = 1) and the prize is behind door 3 (winning_door = 3), the remaining_doors will be [2], since door 2 is the only door left (it is neither the player's choice nor the prize door).\n",
    "\n",
    "Summary for Submission:\n",
    "First version of the code:\n",
    "\n",
    "Simulates the Monty Hall problem using a loop that runs reps times.\n",
    "Includes steps to randomly choose a prize door, reveal a goat door, and switch the player's choice to the remaining door.\n",
    "Streamlined version of the code:\n",
    "\n",
    "Simplified logic to make it easier to understand and follow.\n",
    "Uses list comprehensions to simplify the identification of remaining doors.\n",
    "Assumes the player always chooses door 1 initially, which doesn’t affect the strategy.\n",
    "Explanation of key logic:\n",
    "\n",
    "The line remaining_doors = [door for door in doors if door != player_choice and door != winning_door] creates a list of doors that the host can reveal (those that are neither the player's choice nor the winning door).\n",
    "This summary includes all the key code snippets and explanations, ready for submission as part of your homework."
   ]
  },
  {
   "cell_type": "markdown",
   "id": "0a331b12",
   "metadata": {},
   "source": [
    "4. Watch the embedded video tutorial on Markov chains in the next Jupyter cell below to understand their application and relevance for ChatBots; then, after watching the video, start a new ChatBot session by prompting that you have code that creates a \"Markovian ChatBot\"; show it the first version of the \"Markovian ChatBot code\" below; and interact with the ChatBot session to make sure you understand how the original first version of the \"Markovian ChatBot code\" works"
   ]
  },
  {
   "cell_type": "markdown",
   "id": "4591b331",
   "metadata": {},
   "source": [
    "The video introduces that Markov chain is a mathematical model that describes how to predict the next state from the current state. This model is applied to text generation. \n",
    "From the video i understand that Markov chain is memoryless, which means it only predicts the next word based on the current word, without considering the longer context. And the occurrence probability of each word is based on the frequency statistics of its previous word."
   ]
  },
  {
   "cell_type": "code",
   "execution_count": null,
   "id": "4ab767de",
   "metadata": {},
   "outputs": [],
   "source": [
    "# Markovian Chatbot\n",
    "\n",
    "# from collections import defaultdict\n",
    "word_used = dict()  # defaultdict(int)\n",
    "next_word = dict()  # defaultdict(lambda: defaultdict(int))"
   ]
  },
  {
   "cell_type": "markdown",
   "id": "894e73a6",
   "metadata": {},
   "source": [
    "word_used = dict():\n",
    "This initializes an empty dictionary called word_used. It is intended to store how many times each word appears in the corpus (set of words used in the chatbot's training data).\n",
    "\n",
    "next_word = dict():\n",
    "This initializes another empty dictionary called next_word. This will map each word to another dictionary, which counts how often each subsequent word follows the given word.\n",
    "If you used the commented-out defaultdict, it would automatically handle cases when keys don't exist, but you are managing this manually.\n",
    "\n",
    "The loop starts: for i, word in enumerate(words[:-1]):\n",
    "enumerate() goes through each word in the words list (assuming words is defined somewhere in your larger code), and i is the index of the word in that list.\n",
    "words[:-1] excludes the last word in the list because you'll be looking at the next word (words[i+1]) for each word in this loop.\n",
    "This loop iterates through each word, except the last one, to build the dictionaries word_used and next_word."
   ]
  },
  {
   "cell_type": "code",
   "execution_count": null,
   "id": "ee592f17",
   "metadata": {},
   "outputs": [],
   "source": [
    "    if word in word_used:\n",
    "        word_used[word] += 1\n",
    "    else:\n",
    "        word_used[word] = 1\n",
    "        next_word[word] = {}"
   ]
  },
  {
   "cell_type": "markdown",
   "id": "62d2e932",
   "metadata": {},
   "source": [
    "if word in word_used::\n",
    "This checks if the current word (from the words list) has been seen before (i.e., if it's already in the word_used dictionary).\n",
    "If the word exists in word_used, word_used[word] += 1 increments the count for that word by 1.\n",
    "\n",
    "If the word hasn't been seen before (i.e., not in word_used):\n",
    "word_used[word] = 1 adds the word to word_used and sets its initial count to 1.\n",
    "next_word[word] = {} creates an entry in next_word for this new word, initializing its \"next word\" dictionary as an empty dictionary."
   ]
  },
  {
   "cell_type": "code",
   "execution_count": null,
   "id": "2a085e78",
   "metadata": {},
   "outputs": [],
   "source": [
    "    if words[i+1] in next_word[word]:\n",
    "        next_word[word][words[i+1]] += 1\n",
    "    else:\n",
    "        next_word[word][words[i+1]] = 1"
   ]
  },
  {
   "cell_type": "markdown",
   "id": "36a9a940",
   "metadata": {},
   "source": [
    "if words[i+1] in next_word[word]::\n",
    "This checks if the word that follows the current word (i.e., words[i+1]) is already in the next_word[word] dictionary.\n",
    "next_word[word] stores the counts of all words that can follow word.\n",
    "If the next word is already there:\n",
    "\n",
    "next_word[word][words[i+1]] += 1 increments the count for how often words[i+1] follows the current word (word).\n",
    "If the next word hasn't been seen following the current word:\n",
    "\n",
    "next_word[word][words[i+1]] = 1 adds the next word to the next_word[word] dictionary and sets its initial count to 1."
   ]
  },
  {
   "cell_type": "markdown",
   "id": "6f319b07",
   "metadata": {},
   "source": [
    "link for Q4 with chatgpt:\n",
    "https://chatgpt.com/share/66eb9f20-72ec-8010-b545-7cae08abd7ec"
   ]
  },
  {
   "cell_type": "markdown",
   "id": "56b4f9e4",
   "metadata": {},
   "source": [
    "Abstract for Q4 with chatgpt:\n",
    "\n",
    "Summary of Interaction\n",
    "Topic: Markovian Chatbot Code Explanation\n",
    "\n",
    "You shared a Python code snippet that creates a \"Markovian Chatbot\" using a simple Markov chain model. The goal of the code is to analyze a sequence of words and build a predictive model for the next word based on the current word.\n",
    "\n",
    "Here’s the detailed breakdown of the code I provided:\n",
    "\n",
    "Initial Setup:\n",
    "\n",
    "Two dictionaries are initialized:\n",
    "word_used: Tracks how many times each word appears in the dataset.\n",
    "next_word: Tracks how often each word follows the current word in the dataset.\n",
    "Loop Over Words:\n",
    "\n",
    "The code loops through all words in a list called words, except the last one. For each word:\n",
    "It updates word_used to count how often the word appears.\n",
    "It updates next_word to store what words follow the current word and how often.\n",
    "Explanation of Dictionary Updates:\n",
    "\n",
    "If a word has already been encountered, its count in word_used is incremented; otherwise, it is added to word_used with an initial count of 1.\n",
    "Similarly, for each word, its \"next word\" is tracked in next_word. If a \"next word\" has been encountered before, its count is incremented; otherwise, it's added with an initial count of 1.\n",
    "Code Summary:\n",
    "Input: A list of words (stored in words).\n",
    "Output:\n",
    "word_used: Frequency of each word in the input list.\n",
    "next_word: Dictionary mapping each word to the words that follow it and how often each follow-up word appears.\n",
    "Key Concepts:\n",
    "Markov Chain: This chatbot is based on a Markov chain, meaning it predicts the next word based on the current word. It doesn't account for any longer-term context.\n",
    "Dictionaries: These are used to store both the frequency of words and the frequency of word sequences."
   ]
  },
  {
   "cell_type": "markdown",
   "id": "44b14df0",
   "metadata": {},
   "source": [
    "5. Recreate (or resume) the previous ChatBot session from question \"4\" above, and now prompt the ChatBot session that you have a couple extensions of the code to show it, and then show it each of the extentions of the \"Markovian ChatBot code\" below in turn"
   ]
  },
  {
   "cell_type": "markdown",
   "id": "db2b2efb",
   "metadata": {},
   "source": [
    "A) Without just supplying your ChatBot session with the answers, see if the ChatBot can figure out what the extensions in the code do; namely, making character specific Markov chains, and using bigrams (rather than just the previous word alone) dependency... prompt your ChatBot session with some hints if it's not seeming to \"get it\"\n",
    "B) Interact with your ChatBot session to have it explain details of the code wherever you need help understanding what the code is doing and how it works"
   ]
  },
  {
   "cell_type": "code",
   "execution_count": null,
   "id": "23677583",
   "metadata": {},
   "outputs": [],
   "source": [
    "word_used2 = defaultdict(int)\n",
    "next_word2 = defaultdict(lambda: defaultdict(int))\n",
    "\n",
    "for i, word in enumerate(words[:-2]):\n",
    "    word_used2[word + ' ' + words[i+1]] += 1\n",
    "    next_word2[word + ' ' + words[i+1]][words[i+2]] += 1"
   ]
  },
  {
   "cell_type": "markdown",
   "id": "ed38455d",
   "metadata": {},
   "source": [
    "Explanation given by chatgpt:\n",
    "\n",
    "word_used2 = defaultdict(int):\n",
    "This initializes a defaultdict where each word pair's count will start at 0 by default. It will store the counts of how often each pair of consecutive words appears in the dataset.\n",
    "\n",
    "next_word2 = defaultdict(lambda: defaultdict(int)):\n",
    "This creates a nested defaultdict. Each entry in next_word2 is a dictionary that maps word pairs (key) to a dictionary that stores the counts of words that follow those pairs.\n",
    "The inner defaultdict(int) ensures that the count for each \"next word\" starts at 0 by default.\n",
    "\n",
    "for i, word in enumerate(words[:-2])::\n",
    "This loop iterates through the list words up to the third-to-last word. The reason for excluding the last two words (words[:-2]) is that you're working with pairs of consecutive words (word and words[i+1]), and you need a \"next word\" (words[i+2]), so you stop two words earlier to avoid index errors.\n",
    "\n",
    "word_used2[word + ' ' + words[i+1]] += 1:\n",
    "This creates a pair of consecutive words by concatenating the current word (word) and the next word (words[i+1]) with a space in between.\n",
    "word_used2[word + ' ' + words[i+1]] increments the count for this word pair in word_used2, tracking how often this pair of words appears in the dataset.\n",
    "\n",
    "next_word2[word + ' ' + words[i+1]][words[i+2]] += 1:\n",
    "This tracks what word follows the pair of words (word and words[i+1]).\n",
    "It updates the next_word2 dictionary by incrementing the count for the word that follows the pair (i.e., words[i+2])."
   ]
  },
  {
   "cell_type": "markdown",
   "id": "28569cc3",
   "metadata": {},
   "source": [
    "link for Q5(1)(2) with chatgpt:\n",
    "https://chatgpt.com/share/66eb9f20-72ec-8010-b545-7cae08abd7ec"
   ]
  },
  {
   "cell_type": "markdown",
   "id": "7a846cb1",
   "metadata": {},
   "source": [
    "C) Start yet another new ChatBot session and first show the ChatBot the original \"Markovian ChatBot code\" below, and then tell ChatBot that you have an extension but this time just directly provide it the more complicated final extension without ever providing the intermediate extension code to the ChatBot session and see if it's still able to understand everything extension does; namely, making character specific Markov chains, and using bigrams (rather than just the previous word alone) dependency... prompt the ChatBot with some hints if it's not seeming to understand what you're getting at..."
   ]
  },
  {
   "cell_type": "code",
   "execution_count": null,
   "id": "b60e2488",
   "metadata": {},
   "outputs": [],
   "source": [
    "from collections import Counter, defaultdict\n",
    "\n",
    "# `avatar` is a dataset, and `character` is one of its columns\n",
    "# This creates a Counter object that counts occurrences of character names.\n",
    "# It converts the character names to uppercase and replaces spaces with '.'.\n",
    "# '\\n' at the beginning and ':' at the end might be for formatting or delimiting.\n",
    "characters = Counter(\"\\n\"+ avatar.character.str.upper().str.replace(' ','.')+\":\")\n",
    "\n",
    "# Define an infinitely nested defaultdict\n",
    "nested_dict = lambda: defaultdict(nested_dict)\n",
    "\n",
    "# Dictionaries to store word counts and transitions for each character\n",
    "word_used2C = nested_dict()  # Stores frequency of two-word sequences per character\n",
    "next_word2C = nested_dict()  # Stores transitions between two-word sequences and the next word per character\n",
    "\n",
    "# Iterate through all words except the last two (because we're analyzing three-word sequences)\n",
    "for i, word in enumerate(words[:-2]):\n",
    "    \n",
    "    # If the current word is found in the characters list, set this as the current character\n",
    "    if word in characters:\n",
    "        character = word\n",
    "\n",
    "    # If the character doesn't already have an entry in word_used2C, create a new dictionary for it\n",
    "    if character not in word_used2C:\n",
    "        word_used2C[character] = dict()\n",
    "\n",
    "    # Concatenate current word and the next word to form a two-word sequence\n",
    "    # If this two-word sequence hasn't been tracked yet, initialize it with 0\n",
    "    if word+' '+words[i+1] not in word_used2C[character]:\n",
    "        word_used2C[character][word+' '+words[i+1]] = 0\n",
    "    \n",
    "    # Increment the count of this two-word sequence for the current character\n",
    "    word_used2C[character][word+' '+words[i+1]] += 1\n",
    "\n",
    "    # If the character doesn't already have an entry in next_word2C, create a new dictionary for it\n",
    "    if character not in next_word2C:\n",
    "        next_word2C[character] = dict()\n",
    "\n",
    "    # If the two-word sequence isn't in next_word2C for the character, create a new dictionary for this sequence\n",
    "    if word+' '+words[i+1] not in next_word2C[character]:\n",
    "        next_word2C[character][word+' '+words[i+1]] = dict()\n",
    "\n",
    "    # Check if the third word (i.e., the word after the two-word sequence) exists in this character's sequence transition\n",
    "    # If not, initialize it with 0\n",
    "    if words[i+2] not in next_word2C[character][word+' '+words[i+1]]:\n",
    "        next_word2C[character][word+' '+words[i+1]][words[i+2]] = 0\n",
    "\n",
    "    # Increment the count for this next word following the two-word sequence\n",
    "    next_word2C[character][word+' '+words[i+1]][words[i+2]] += 1"
   ]
  },
  {
   "cell_type": "markdown",
   "id": "c52be438",
   "metadata": {},
   "source": [
    "link for Q5(3) with chatgpt:\n",
    "https://chatgpt.com/share/66ebab77-80bc-8010-8c40-dd6b7eed9ebf"
   ]
  },
  {
   "cell_type": "markdown",
   "id": "a28452b6",
   "metadata": {},
   "source": [
    "6. Report on your experience interacting with ChatBots to understand the Monte Hall problem and \"Markovian ChatBot\" code"
   ]
  },
  {
   "cell_type": "markdown",
   "id": "71d0fd34",
   "metadata": {},
   "source": [
    "A) Discuss how quickly the ChatBot was able to be helpful for each of the above questions, and if so, how?"
   ]
  },
  {
   "cell_type": "markdown",
   "id": "e17c7f32",
   "metadata": {},
   "source": [
    "In both the Monty Hall problem and the \"Markovian ChatBot\" code, the ChatBot was able to provide timely guidance.\n",
    "\n",
    "For Monty Hall problem, chatgpt gave a clear and detailed step-by-step explanation of the probability module and the underlying logic behind the question, and at my request, it immediately came up with good suggestions to improve code that made the overall solution simpler, more readable and less prone to errors.\n",
    "\n",
    "For \"Markovian ChatBot\" code, chatgpt also quickly gave the basic concept of Markov chain for this problem, and analyzed and explained the original code I provided, line by line. When I provided the extension of the code to chatgpt (even if it was not complete), it could still quickly reflect what I wanted to do and give a clear and immedite reply.\n",
    "\n",
    "Overall, in both cases above, the ChatBot provided quick, timely, and useful analysis."
   ]
  },
  {
   "cell_type": "markdown",
   "id": "5a917c24",
   "metadata": {},
   "source": [
    "B) Discuss whether or not interacting with ChatBot to try to figure things out was frustrating or unhelpful, and if so, how?"
   ]
  },
  {
   "cell_type": "markdown",
   "id": "41ce24be",
   "metadata": {},
   "source": [
    "In general, interacting with the ChatBot was not frustrating or unhelpful.\n",
    "\n",
    "For Monty Hall problem, I could not understand why switching the door would improve the probability of win, but chatgpt's explanation of the first version code helped me a lot. However, when I asked it to improve and simplify the code, I could feel that the overall logic of the new solution was much simpler and clearer, but since I was not very familiar with the code, I could not understand it very well. So it was difficult to look at some lines with long code, and chatgpt didn't give a specific explanation for those lines, which made me a little helpless, but I later found out that was because I didn't prompt it to give me a line-by-line explanation, after I asked it, chatgpt gave me a satisfactory answer and helped me understand the long code.\n",
    "\n",
    "For code problems, because of the complexity and variety of content, sometimes chatgpt can give timely and reasonable answers, but it may not be accurate to target at a particular question, but because chatbots are usually interactive, so as long as I clearly and emphasize my requirements to it, or again to it, it will improve, so it is still very helpful.\n",
    "\n",
    "Overall, interacting with chatbot seems no frustration so far, because we can always add prompts to make it's response more targetted at what we want."
   ]
  },
  {
   "cell_type": "markdown",
   "id": "3090bb59",
   "metadata": {},
   "source": [
    "C) Based on your experiences to date (e.g., including using ChatBots to troubleshoot coding errors in the previous homework), provide an overall assessment evaluating the usefulness of ChatBots as tools to help you understand code"
   ]
  },
  {
   "cell_type": "markdown",
   "id": "6da8a955",
   "metadata": {},
   "source": [
    "Overall assessment for chatbots for understanding code:\n",
    "\n",
    "Strength:\n",
    "\n",
    "1)Immediate feedback\n",
    "Whether we ask the chatbot for an academic concept, ask it to generate a specific piece of code and suggest improvements, or analyze code errors and fix them as we did in last week's assignment, the chatbot always gives us an immediate answer, instead of doing the time-consuming and pointless step-by-step analysis of all the potentially relevant data by ourselves when searching in a browser. The speed of chatbot has greatly improved our learning efficiency.\n",
    "\n",
    "2)Step-by-step instruction and explanation\n",
    "Chatbots can break down complex problems into small steps to help us understand the code, which is quite beneficial for beginners in code, because when we don't understand the code, we can always turn to the ChatBot for detailed explanation, like in the \"Markovian ChatBot\" code, I asked chatgpt to analyze the code for me on a case-by-case basis.\n",
    "\n",
    "Weakness:\n",
    "\n",
    "The instructions need to be clear and specific\n",
    "Chatbot is generally very smart, but sometimes it can't connect the contents well. For example, in the homework last week, we provided it with a dataset at the beginning of the chat, but after many conversations, I found that it began to name some information in the dataset incorrectly and inconsistently, which would lead to some troubles while we run the code in our notebook.\n",
    "\n",
    "Overall, Chatbot is great and ideal tool for learning coding and theoretical concepts, but we also need to pay attention to the details in the answers it gives us, in case the chatbot slips up or misunderstands the prompts."
   ]
  },
  {
   "cell_type": "markdown",
   "id": "9cf84527",
   "metadata": {},
   "source": [
    "7. Reflect on your experience interacting with ChatBot and describe how your perception of AI-driven assistance tools in the context of learning coding, statistics, and data science has been evolving (or not) since joining the course"
   ]
  },
  {
   "cell_type": "markdown",
   "id": "a9745e57",
   "metadata": {},
   "source": [
    "Since joining the course, my perception of AI-driven assistance tools in the context of learning coding, statistics, and data science has evolved significantly. Before i took STA130, chatgpt was always a symbol of academic plagiarism in my mind, so i never used it while studying or doing assignments, and for research or other confusion come from my daily life, i was more willing to use bing. or google. So, i literally didn't have any perception of AI-driven assistance tools till the first tutorial of STA130 which really shocked me at first that we could use chatgpt for studying?! However, through these two weeks' exploration, i found myself misunderstood the role of AI tools in this course before and i gradually began to build my own perception to AI tools.\n",
    "\n",
    "AI-driven assistance tools have brought so many benefits:\n",
    "1.Promote independent learning\n",
    "By chatting with AI tools like chatgpt, students can learn independently anytime and anywhere without being resticted by the class schedule. In addition, AI tools can provide access to a massive store of information, which helps in exploring new libraries, coding frameworks, or statistical techniques out of the course, to broader our knowledge.\n",
    "2.Promote personalized instruction\n",
    "AI tools can personalize a learning guidance for students targeted to their questions and interests through interacting. For me, i significantly benefited from this for the past two weeks. As i didn't have any coding or programming experience before and my language is still on the way, i cannot always catch up in lectures. If this situation happenned before AI tools were invented, i couldn't imagine how struggling i would be. But now, even if it's still challenging for me to handle all codes we've learnt in class as soon as possible, i can ask chatgpt to help me explain the code line by line, which makes me less painful.\n",
    "3.Efficiency for problem-solving\n",
    "Before using AI tools to clear my confusion, every time i spent a large amount of time searching through google and reading all articles i thought they would help, which was a big project and time-consuming. However, by chatting with AI tools, they can directly provide me related helpful metarials or directly clearly explain my confusion. This observably avoids users wasting time on unnecessary reading and improve the learning efficiency.\n",
    "\n",
    "However, i also recognized the shortcoming of AI tools:\n",
    "1.Information overloaded\n",
    "Students who lack of discernability may find it difficult to distinguish the advantages and disadvantages of the huge amount of content generated by AI tools and its fast updating speed, especially when students even do not clearly understand their existing information. In this situation, students will feel overwhelming and might be affected by misleading information. \n",
    "2.Generate dependency\n",
    "Long-term reliance on content generated by AI tools may weaken's students' creativity and priority for data/code analysis, because they are used to accepting ready-made answers instead of using their own brain to think or explore innovative ways.\n",
    "\n",
    "In conclusion, AI tool is a double-edged sword. We should definitely use AI-drivin assistance tools helping us learning coding and data science efficiently and effectively, but we also need to remind ourselves all the time that AI tools are just kind of tools, they cannot manipulate our own thinking and we cannot use them to substitute our brains. AI and human brains must work together to promote the development of science and technology.\n"
   ]
  },
  {
   "cell_type": "markdown",
   "id": "c23c379f",
   "metadata": {},
   "source": [
    "8. ChatBots consume text data available on the web or platforms, and thus represents a new way to \"search consensensus\" that condenses and summarizes mainstream human thought"
   ]
  },
  {
   "cell_type": "markdown",
   "id": "e1948a24",
   "metadata": {},
   "source": [
    "A) Start a new ChatBot session and discuss the relevance of learning and adaptability, communication, coding, and statistics and data analysis as skills in the modern world, especially with respect to career opportunities (particularly in the context of the data science industry)"
   ]
  },
  {
   "cell_type": "markdown",
   "id": "57ab97d7",
   "metadata": {},
   "source": [
    "B) See if ChatBot thinks you could be a statistician or data scientist without coding or doing data analysis, and then transition your ChatBot conversation into a career exploration discussion, using the ChatBot to identify the skills that might be the most valuable for a career that you're interested"
   ]
  },
  {
   "cell_type": "markdown",
   "id": "e79ba2c1",
   "metadata": {},
   "source": [
    "C) Ask for a summary of this ChatBot session and paste it into your homework notebook (including link(s) to chat log histories if you're using ChatBot)"
   ]
  },
  {
   "cell_type": "markdown",
   "id": "8f840719",
   "metadata": {},
   "source": [
    "link for Q8(1)(2)(3) with chatgpt:\n",
    "https://chatgpt.com/share/66ebcb9f-a05c-8010-b261-333b1da0dd55"
   ]
  },
  {
   "cell_type": "markdown",
   "id": "be8390a4",
   "metadata": {},
   "source": [
    "Here's a summary of our conversation:\n",
    "\n",
    "You asked about the relevance of learning adaptability, communication, coding, and statistics/data analysis in the modern world, especially in the context of career opportunities in the data science industry. I explained that these skills are essential for success in data science, as they form the foundation for problem-solving, collaboration, and innovation.\n",
    "You expressed interest in becoming a statistician. I encouraged you by highlighting your engagement with foundational skills, such as statistical analysis and data manipulation, and mentioned that your curiosity and willingness to learn set you on the right path.\n",
    "You were curious about the most valuable skills for a career in statistics, and I provided a detailed list, including mathematical foundations, statistical software proficiency, data analysis, programming, communication, and more.\n",
    "You shared that you're just beginning to learn these skills in your first year of university, and I acknowledged that you're starting strong with plenty of time to deepen your knowledge.\n",
    "Finally, you reflected that success is important, but enjoying the learning process is equally valuable, and I reassured you that you're on a promising path regardless of the outcome."
   ]
  },
  {
   "cell_type": "markdown",
   "id": "a9ab0121",
   "metadata": {},
   "source": [
    "D) Paraphrase the assessments and conclusions of your conversation in the form of a reflection on your current thoughts regarding your potential future career(s) and how you can go about building the skills you need to pursue it"
   ]
  },
  {
   "cell_type": "markdown",
   "id": "b8ea541b",
   "metadata": {},
   "source": [
    "The relevance of these skills (adaptability, communication, coding, and statistical analysis) in today’s world confirms that my current focus on foundational concepts is well-placed, particularly as I’m just starting my journey at university.\n",
    "\n",
    "I’m encouraged by the idea that being curious and willing to learn is already positioning me in the right direction. While success in a career like statistics or data science demands mastery of programming languages, data analysis, and statistical software, I also recognize the need to cultivate strong communication and analytical thinking to apply these skills effectively in real-world scenarios.\n",
    "\n",
    "Going forward, I see my university experience as a great opportunity to gradually build these abilities. I can take advantage of coursework, practical projects, and self-directed learning to deepen my proficiency in these areas. At the same time, I’ll stay mindful of enjoying the learning process, understanding that the path itself is as valuable as the outcome."
   ]
  },
  {
   "cell_type": "markdown",
   "id": "d17a1c14",
   "metadata": {},
   "source": [
    "E) Give your thoughts regarding the helpfulness or limitations of your conversation with a ChatBot, and describe the next steps you would take to pursue this conversation further if you felt the information the ChatBot provides was somewhat high level and general, and perhaps lacked the depth and detailed knowledge of a dedicated subject matter expert who had really take the time to understand the ins and outs of the industry and career path in question."
   ]
  },
  {
   "cell_type": "markdown",
   "id": "a1e4908e",
   "metadata": {},
   "source": [
    "The limitations became obvious in the depth of the advice. The information was somewhat broad, touching on the essentials without diving into the specific nuances of industry trends, advanced skill sets, or personal experiences from professionals in the field.\n",
    "To pursue this conversation further and overcome the limitations, my next steps would be:\n",
    "1.Join Communities or Networks: Engaging in communities, such as online forums, LinkedIn groups, or local meetups, would allow me to connect with others in the field, ask specific questions, and learn from their experiences.\n",
    "2.Seek Mentorship: Finding a mentor in the field would provide more personalized, in-depth advice. A mentor can help tailor my learning, share insights from their career, and guide me through specific challenges I may face."
   ]
  },
  {
   "cell_type": "markdown",
   "id": "41d757c6",
   "metadata": {},
   "source": [
    "9. Have you reviewed the course wiki-textbook and interacted with a ChatBot (or, if that wasn't sufficient, real people in the course piazza discussion board or TA office hours) to help you understand all the material in the tutorial and lecture that you didn't quite follow when you first saw it?"
   ]
  },
  {
   "cell_type": "markdown",
   "id": "8c116066",
   "metadata": {},
   "source": [
    "Yes, i went to the in-person office hour to ask about the Markov code and also seek for some advice for learning this course, and i found it really helpful!"
   ]
  }
 ],
 "metadata": {
  "kernelspec": {
   "display_name": "Python 3 (ipykernel)",
   "language": "python",
   "name": "python3"
  },
  "language_info": {
   "codemirror_mode": {
    "name": "ipython",
    "version": 3
   },
   "file_extension": ".py",
   "mimetype": "text/x-python",
   "name": "python",
   "nbconvert_exporter": "python",
   "pygments_lexer": "ipython3",
   "version": "3.11.6"
  }
 },
 "nbformat": 4,
 "nbformat_minor": 5
}
