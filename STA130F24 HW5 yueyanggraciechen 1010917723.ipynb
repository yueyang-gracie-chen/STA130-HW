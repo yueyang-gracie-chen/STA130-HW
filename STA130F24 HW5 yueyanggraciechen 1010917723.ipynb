{
 "cells": [
  {
   "cell_type": "markdown",
   "id": "ccdade09",
   "metadata": {},
   "source": [
    "1. The \"first pre-lecture video\" (above) describes hypothesis testing as addressing \"an idea that can be tested\", and the end of the video then discusses what our actual intended purpose in setting up a null hypothesis is. What is the key factor that makes the difference between ideas that can, and cannot be examined and tested statistically? What would you describe is the key \"criteria\" defining what a good null hypothesis is? And what is the difference between a null hypothesis and an alternative hypothesis in the context of hypothesis testing? Answer these questions with concise explanations in your own words."
   ]
  },
  {
   "cell_type": "markdown",
   "id": "bcdf4888",
   "metadata": {},
   "source": [
    "Key Factor: The key factor that determines if an idea can be tested statistically is measurability. The idea must be quantifiable, meaning there needs to be data available or collectible to test it. If you can’t measure it, you can’t test it statistically."
   ]
  },
  {
   "cell_type": "markdown",
   "id": "95e952b9",
   "metadata": {},
   "source": [
    "Criteria for a Good Null Hypothesis: A good null hypothesis has these key features:\n",
    "\n",
    "Specific: It should make a clear statement about a population parameter (e.g., \"The average height is 170 cm\").\n",
    "Testable: You must be able to test it with data.\n",
    "Falsifiable: There should be a possibility to disprove it if enough evidence is found.\n",
    "Conservative: It usually assumes no effect, difference, or relationship (e.g., \"There is no difference between two groups\")."
   ]
  },
  {
   "cell_type": "markdown",
   "id": "ca56a661",
   "metadata": {},
   "source": [
    "Null Hypothesis vs. Alternative Hypothesis:\n",
    "\n",
    "The null hypothesis (H₀) assumes no effect or difference (e.g., \"The new drug has no effect\").\n",
    "The alternative hypothesis (H₁) suggests there is an effect or difference (e.g., \"The new drug lowers blood pressure\")."
   ]
  },
  {
   "cell_type": "markdown",
   "id": "9a991581",
   "metadata": {},
   "source": [
    "2. Towards the end of the \"first pre-lecture\" video (above) it is stated that, \"It is important to note that outcomes of tests refer to the population parameter, rather than the sample statistic! As such, the result that we get is for the population.\" In terms of the distinctions between the concepts of xi's, x-bar,μ,μ0, how would you describe what the sentence above means? Explain this concisely in your own words for a \"non-statsitical\" audience, defining the technical statistical terminology you use in your answer."
   ]
  },
  {
   "cell_type": "markdown",
   "id": "41f9a3ba",
   "metadata": {},
   "source": [
    "The sentence is saying that when we do statistical tests, our conclusions are about the entire population (everyone we're interested in), not just the sample (the smaller group we collected data from)."
   ]
  },
  {
   "cell_type": "markdown",
   "id": "875a9338",
   "metadata": {},
   "source": [
    "simple explanation of the key terms:"
   ]
  },
  {
   "cell_type": "markdown",
   "id": "acdfd9ea",
   "metadata": {},
   "source": [
    "xᵢ: This is each individual data point (like the height of one person in a group).\n",
    "x̄: This is the average of the sample (e.g., the average height of people in the group you measured).\n",
    "μ: This is the true average for the entire population (e.g., the average height of all people, not just those in your sample).\n",
    "μ₀: This is the average we assume under the null hypothesis (what we expect the population average to be, like 170 cm)."
   ]
  },
  {
   "cell_type": "markdown",
   "id": "2a567440",
   "metadata": {},
   "source": [
    "In conclusion, the sentence means when we do a hypothesis test, we use the sample average (x̄) to make a conclusion about the population average (μ). The result of the test tells us whether we have enough evidence to reject our assumption about μ₀, but the conclusion applies to the whole population, not just the sample we measured. In simpler terms, we use data from a small group to make conclusions about a much larger group."
   ]
  },
  {
   "cell_type": "markdown",
   "id": "38cd9045",
   "metadata": {},
   "source": [
    "3. The second \"Pre-lecture\" video (above) explains that we \"imagine a world where the null hypothesis is true\" when calculating a p-value? Explain why this is in your own words in a way that makes the most sense to you."
   ]
  },
  {
   "cell_type": "markdown",
   "id": "78c05b84",
   "metadata": {},
   "source": [
    "When calculating a p-value, we start by assuming the null hypothesis is true because the p-value is meant to measure how strong the evidence is against it."
   ]
  },
  {
   "cell_type": "markdown",
   "id": "3fcd6fb8",
   "metadata": {},
   "source": [
    "Why do we assume the null hypothesis is true?\n",
    "\n",
    "The null hypothesis (H₀) represents the default assumption, such as \"there’s no difference between two groups\" or \"the new drug has no effect.\" We assume this is true so we can test if there’s enough evidence in the data to reject it."
   ]
  },
  {
   "cell_type": "markdown",
   "id": "50bc13b5",
   "metadata": {},
   "source": [
    "What does the p-value tell us?\n",
    "\n",
    "The p-value answers the question: \"If the null hypothesis is true, how likely is it that we’d get the sample data we observed (or something even more extreme)?\""
   ]
  },
  {
   "cell_type": "markdown",
   "id": "aadf5f55",
   "metadata": {},
   "source": [
    "Interpreting the p-value:\n",
    "\n",
    "A small p-value means the data we observed is very unlikely if the null hypothesis were true, suggesting that the null hypothesis might be wrong. So, we might reject it.\n",
    "A large p-value means the data is fairly likely under the null hypothesis, so we don't have enough evidence to reject it."
   ]
  },
  {
   "cell_type": "markdown",
   "id": "fda05dae",
   "metadata": {},
   "source": [
    "Why do we \"imagine the null hypothesis is true\"?\n",
    "\n",
    "By assuming the null hypothesis is true, we can figure out how surprising or unusual the data is in that scenario.\n",
    "If the data seems highly unlikely in this \"null hypothesis world\" (i.e., a small p-value), it suggests that the alternative hypothesis (something else going on) might be true."
   ]
  },
  {
   "cell_type": "markdown",
   "id": "8bf40ea0",
   "metadata": {},
   "source": [
    "4. The second \"Pre-lecture\" video (above) suggests that a smaller p-value makes the null hypothesis look more ridiculous. Explain why this is in your own words in a way that makes the most sense to you, clarifying the meaning of any technical statistical terminology you use in your answer."
   ]
  },
  {
   "cell_type": "markdown",
   "id": "9029cc83",
   "metadata": {},
   "source": [
    "A smaller p-value makes the null hypothesis seem more \"ridiculous\" because it shows that the data we observed would be extremely unlikely if the null hypothesis were true."
   ]
  },
  {
   "cell_type": "markdown",
   "id": "4543c226",
   "metadata": {},
   "source": [
    "Detailed explanation:"
   ]
  },
  {
   "cell_type": "markdown",
   "id": "be00943d",
   "metadata": {},
   "source": [
    "P-value: The p-value tells us how likely it is to see the data we collected (or even more extreme data) assuming the null hypothesis is true."
   ]
  },
  {
   "cell_type": "markdown",
   "id": "e85bb914",
   "metadata": {},
   "source": [
    "Null Hypothesis (H₀): This is the starting assumption that there’s no effect, no difference, or no relationship (e.g., \"The new teaching method has no effect on test scores\")."
   ]
  },
  {
   "cell_type": "markdown",
   "id": "b3396e4f",
   "metadata": {},
   "source": [
    "Alternative Hypothesis (H₁): This is the opposite of the null hypothesis, suggesting there is an effect, difference, or relationship (e.g., \"The new teaching method improves test scores\")."
   ]
  },
  {
   "cell_type": "markdown",
   "id": "a1e98595",
   "metadata": {},
   "source": [
    "Why a smaller p-value makes the null hypothesis look bad:"
   ]
  },
  {
   "cell_type": "markdown",
   "id": "02f45b62",
   "metadata": {},
   "source": [
    "If the p-value is very small (like 0.01 or 0.001), it means that it’s highly unlikely for us to get this data if the null hypothesis were true. In other words, the data doesn’t fit well with what we would expect in a \"null hypothesis world.\"\n",
    "The smaller the p-value, the more it seems like the null hypothesis can’t explain the data—making it seem less believable, or even \"ridiculous.\" for example, imagine we're testing whether a new drug reduces blood pressure, and our null hypothesis is that it has no effect. After running the experiment, we get a p-value of 0.001. This means that if the drug really had no effect, the chances of seeing the blood pressure drop we measured are just 0.1%. That’s a pretty unlikely scenario! Because the data doesn’t fit with the idea that the drug has no effect, we start doubting the null hypothesis. It seems more likely that the drug does work, and the null hypothesis is wrong."
   ]
  },
  {
   "cell_type": "markdown",
   "id": "5ad359d5",
   "metadata": {},
   "source": [
    "In summary: A small p-value makes the null hypothesis look “ridiculous” because it suggests that the data we observed is extremely unlikely if the null were true. This pushes us to question the null hypothesis and consider rejecting it in favor of the alternative."
   ]
  },
  {
   "cell_type": "markdown",
   "id": "bdabd841",
   "metadata": {},
   "source": [
    "link with chatgpt from Q1 to Q4：https://chatgpt.com/share/670dded9-659c-8010-b040-5c71294d32ca"
   ]
  },
  {
   "cell_type": "markdown",
   "id": "159de13f",
   "metadata": {},
   "source": [
    "abstract with chatgpt from Q1 to Q4:"
   ]
  },
  {
   "cell_type": "markdown",
   "id": "6a1072f8",
   "metadata": {},
   "source": [
    "Here’s a concise summary of our conversation:\n",
    "\n",
    "Key Points on Hypothesis Testing and Statistical Concepts:\n",
    "Statistical Test Outcomes and Population Parameters:\n",
    "\n",
    "The outcome of a statistical test refers to a population parameter, not just the sample statistic. The key distinction is that the sample data (e.g., individual data points \n",
    "𝑥\n",
    "𝑖\n",
    "x \n",
    "i\n",
    "​\n",
    "  and sample mean \n",
    "𝑥\n",
    "ˉ\n",
    "x\n",
    "ˉ\n",
    " ) is used to make inferences about the population mean (\n",
    "𝜇\n",
    "μ), rather than just reflecting what’s true for the sample. The hypothesized population mean under the null hypothesis is \n",
    "𝜇\n",
    "0\n",
    "μ \n",
    "0\n",
    "​\n",
    " .\n",
    "Why We Assume the Null Hypothesis is True When Calculating a P-Value:\n",
    "\n",
    "When calculating a p-value, we assume the null hypothesis is true. The p-value tells us how likely it is to observe the data (or something more extreme) if the null hypothesis were true. This process allows us to assess the strength of evidence against the null hypothesis.\n",
    "A Smaller P-Value Makes the Null Hypothesis Seem Less Credible:\n",
    "\n",
    "A small p-value means the observed data is very unlikely if the null hypothesis were true. This makes the null hypothesis seem less plausible (or \"ridiculous\") because it suggests the data is inconsistent with the assumption of no effect or no difference.\n",
    "Key Terms Defined:\n",
    "\n",
    "Null Hypothesis (H₀): The assumption of no effect or no difference in the population.\n",
    "Alternative Hypothesis (H₁): The assumption that there is an effect or difference in the population.\n",
    "P-value: The probability of obtaining the observed data (or more extreme data) if the null hypothesis is true. A smaller p-value provides stronger evidence against the null hypothesis.\n",
    "This summary captures the main points of our discussion, making it suitable to include in your assignment. Let me know if you'd like any adjustments!"
   ]
  },
  {
   "cell_type": "markdown",
   "id": "aa00496f",
   "metadata": {},
   "source": [
    "5. Güntürkün (2003) recorded how kissing couples tilt their heads. 80 out of 124 couples, or 64.5% tilted their heads to the right. Simulate a p-value using a \"50/50 coin-flipping\" model for the assumption of the null hypothesis H0 that the population of humans don't have left or right head tilt tendencies when kissing, and use the table below to determine the level of evidence we have against H0."
   ]
  },
  {
   "cell_type": "markdown",
   "id": "add6575a",
   "metadata": {},
   "source": [
    "Null Hypothesis \n",
    "𝐻\n",
    "0\n",
    "H \n",
    "0\n",
    "​\n",
    " :\n",
    "The null hypothesis is that humans do not have a preference for tilting their heads to the left or right when kissing. This implies a 50/50 probability of tilting the head either way, like flipping a fair coin."
   ]
  },
  {
   "cell_type": "markdown",
   "id": "584c508f",
   "metadata": {},
   "source": [
    "Observed Data:\n",
    "80 out of 124 couples tilted their heads to the right.\n",
    "The observed proportion is \n",
    "𝑝\n",
    "^\n",
    "𝑜\n",
    "𝑏\n",
    "𝑠\n",
    "=\n",
    "80\n",
    "124\n",
    "=\n",
    "0.645\n",
    "p\n",
    "^\n",
    "​\n",
    "  \n",
    "obs\n",
    "​\n",
    " = \n",
    "124\n",
    "80\n",
    "​\n",
    " =0.645."
   ]
  },
  {
   "cell_type": "markdown",
   "id": "c28b7c3e",
   "metadata": {},
   "source": [
    "Simulation Steps:\n",
    "Generate Simulated Data:\n",
    "\n",
    "Assume that, under \n",
    "𝐻\n",
    "0\n",
    "H \n",
    "0\n",
    "​\n",
    " , each couple has a 50% chance of tilting their head to the right (like a coin flip).\n",
    "Repeat the experiment many times (e.g., 10,000 simulations), and for each simulation, \"flip a coin\" 124 times to see how many heads (right tilts) you get.\n",
    "Calculate the Proportion in Each Simulation:\n",
    "\n",
    "For each simulation, calculate the proportion of right tilts (heads) among the 124 flips.\n",
    "Compare to Observed Proportion:\n",
    "\n",
    "After simulating the coin flips many times, calculate how often the simulated proportion is as extreme as or more extreme than the observed proportion (0.645).\n",
    "Calculate p-value:\n",
    "\n",
    "The p-value is the proportion of simulations where the simulated proportion is greater than or equal to 0.645."
   ]
  },
  {
   "cell_type": "markdown",
   "id": "74da11b2",
   "metadata": {},
   "source": [
    "The simulated p-value is 0.0006, which suggests very strong evidence against the null hypothesis \n",
    "𝐻\n",
    "0\n",
    "H \n",
    "0\n",
    "​\n",
    " , based on the table provided. This means that it's highly unlikely that the observed head-tilt preference (80 out of 124 tilting to the right) occurred by chance under the assumption of a 50/50 head-tilt probability. "
   ]
  },
  {
   "cell_type": "markdown",
   "id": "3a56e08c",
   "metadata": {},
   "source": [
    "link with chatgpt for Q5:https://chatgpt.com/share/670de0b6-21e8-8010-accf-27d67f6d8a91"
   ]
  },
  {
   "cell_type": "markdown",
   "id": "19f2a6ca",
   "metadata": {},
   "source": [
    "abstract with chatgpt for Q5:"
   ]
  },
  {
   "cell_type": "markdown",
   "id": "688e64d4",
   "metadata": {},
   "source": [
    "In our conversation, you asked to simulate a p-value for an experiment where 80 out of 124 kissing couples tilted their heads to the right. We assumed a null hypothesis \n",
    "𝐻\n",
    "0\n",
    "H \n",
    "0\n",
    "​\n",
    "  that there is no preference for tilting left or right (a 50/50 chance, like flipping a coin). After running 10,000 simulations, we calculated a p-value of 0.0006, which indicates very strong evidence against \n",
    "𝐻\n",
    "0\n",
    "H \n",
    "0\n",
    "​\n",
    " . This suggests that it is highly unlikely that the observed head-tilt preference happened by chance."
   ]
  },
  {
   "cell_type": "markdown",
   "id": "f4f87e6f",
   "metadata": {},
   "source": [
    "6. Can a smaller p-value definitively prove that the null hypothesis is false? Is it possible to definitively prove that Fido (from the \"second pre-lecture video\") is innocent using a p-value? Is it possible to difinitively prove that Fido is guilty using a p-value? How low or high does a p-value have to be to definitely prove one or the other? Explain this concisely in your own words."
   ]
  },
  {
   "cell_type": "markdown",
   "id": "2e7d4a98",
   "metadata": {},
   "source": [
    "A smaller p-value doesn’t definitively prove the null hypothesis is wrong. In hypothesis testing, the p-value tells us how strong the evidence is against the null hypothesis, but it doesn’t give us absolute proof. A low p-value (typically below 0.05) suggests that the observed data would be very unlikely if the null hypothesis were true, so we might reject it. However, this doesn’t mean the null hypothesis is definitely false—there’s always a chance of making an error (like a Type I error).\n",
    "\n",
    "If we think about Fido's innocence or guilt (as mentioned in the video), the p-value works similarly. A high p-value suggests there's not enough evidence to reject the null hypothesis (which could mean innocence), but it doesn't prove innocence. A low p-value suggests there’s evidence against the null hypothesis (which could imply guilt), but it doesn’t prove guilt either.\n",
    "\n",
    "In short, there's no specific p-value that can give us definitive proof of anything. P-values help guide our decisions based on probabilities, but they don’t provide the kind of certainty that true proof requires."
   ]
  },
  {
   "cell_type": "markdown",
   "id": "53dcc73d",
   "metadata": {},
   "source": [
    "7. In the second half of the \"first pre-lecture video\" the concept of a \"one sided\" (or \"one tailed\") test is introduced in contrast to a \"two sided\" (or \"two tailed\") test. Work with a ChatBot to adjust the code from \"Demo II of the Week 5 TUT\" (which revisits the \"Vaccine Data Analysis Assignment\" from Week 04 HW \"Question 8\") in order to compute a p-value for a \"one sided\" (or \"one tailed\") hypothesis test rather than the \"two sided\" (or \"two tailed\") version it provides. Describe (perhaps with the help of your ChatBot) what changed in the code; how this changes the interpretation of the hypothesis test; and whether or not we should indeed expect the p-value to be smaller in the \"one tailed\" versus \"two tailed\" analysis."
   ]
  },
  {
   "cell_type": "markdown",
   "id": "d7a744c9",
   "metadata": {},
   "source": [
    "Changes in the Code"
   ]
  },
  {
   "cell_type": "markdown",
   "id": "0a9595ff",
   "metadata": {},
   "source": [
    "For Two-Sided Test: In the two-tailed version, the p-value is calculated by considering the extreme values on both sides of the distribution. For example:"
   ]
  },
  {
   "cell_type": "code",
   "execution_count": null,
   "id": "8ad77651",
   "metadata": {},
   "outputs": [],
   "source": [
    "p_value = 2 * min(p_value_lower_tail, p_value_upper_tail)"
   ]
  },
  {
   "cell_type": "markdown",
   "id": "f39b243e",
   "metadata": {},
   "source": [
    "For One-Sided Test: In a one-sided test, we are only concerned with one direction—whether the effect is either greater than or less than a certain value. For instance:"
   ]
  },
  {
   "cell_type": "code",
   "execution_count": null,
   "id": "96be1618",
   "metadata": {},
   "outputs": [],
   "source": [
    "p_value = p_value_lower_tail  # For testing if the effect is greater\n",
    "# OR\n",
    "p_value = p_value_upper_tail  # For testing if the effect is smaller"
   ]
  },
  {
   "cell_type": "markdown",
   "id": "196576af",
   "metadata": {},
   "source": [
    "So, the 2 * factor is dropped, and only one tail of the distribution is considered."
   ]
  },
  {
   "cell_type": "markdown",
   "id": "f1a0b524",
   "metadata": {},
   "source": [
    "Change in Interpretation\n",
    "In the two-tailed test, we test for the possibility of the effect being either greater or less than a certain value. In contrast, a one-sided test only tests in one direction (e.g., whether the effect is greater than a specific value). The one-sided test focuses on a specific hypothesis, such as whether a vaccine's effect is greater than a threshold (or worse than expected).\n",
    "\n",
    "Expected Change in P-Value\n",
    "Since a one-sided test considers only one extreme of the distribution, the p-value will typically be smaller in a one-tailed test than in a two-tailed test (assuming the effect is in the hypothesized direction). This is because we are not \"penalizing\" the test by looking at both directions.\n",
    "\n",
    "Thus, for the vaccine data analysis assignment, if the hypothesis is correctly directional (e.g., \"the vaccine is more effective\"), the p-value in the one-tailed test should indeed be smaller than in the two-tailed version."
   ]
  },
  {
   "cell_type": "markdown",
   "id": "f7cb7d22",
   "metadata": {},
   "source": [
    "link with chatgpt for Q6 & Q7:https://chatgpt.com/share/670de3eb-d474-8010-ae67-4000169c159c"
   ]
  },
  {
   "cell_type": "markdown",
   "id": "a473d954",
   "metadata": {},
   "source": [
    "abstract with chatgpt for Q6 & Q7:"
   ]
  },
  {
   "cell_type": "markdown",
   "id": "741803d7",
   "metadata": {},
   "source": [
    "Here’s a summary of our conversation:\n",
    "\n",
    "We discussed how to adjust code from \"Demo II of the Week 5 TUT\" to compute a p-value for a one-sided hypothesis test instead of the two-sided version provided in the original code. This involves dropping the factor of 2 * in the p-value calculation and focusing on one tail of the distribution instead of both.\n",
    "\n",
    "The interpretation of a one-sided test differs from a two-sided test in that it only considers one direction of the effect (e.g., whether the effect is greater or less than a specific value), whereas the two-sided test considers both directions.\n",
    "\n",
    "The p-value is generally expected to be smaller in a one-tailed test than in a two-tailed test if the effect is in the hypothesized direction, as the one-sided test only looks at one extreme of the distribution.\n",
    "\n",
    "This summary captures the main points discussed."
   ]
  },
  {
   "cell_type": "markdown",
   "id": "05f81a86",
   "metadata": {},
   "source": [
    "8. Complete the following assignment."
   ]
  },
  {
   "cell_type": "markdown",
   "id": "a0f37f38",
   "metadata": {},
   "source": [
    "Introduction to the Problem"
   ]
  },
  {
   "cell_type": "markdown",
   "id": "659f49eb",
   "metadata": {},
   "source": [
    "This experiment is inspired by Ronald Fisher's famous tea experiment, where he tested Dr. Muriel Bristol’s ability to distinguish whether tea or milk was poured first.\n",
    "\n",
    "In the case of the STA130 experiment, we are similarly testing whether students in the STA130 class can identify whether tea or milk was poured first. The experiment was conducted with a sample of 80 students, out of which 49 correctly identified the order."
   ]
  },
  {
   "cell_type": "markdown",
   "id": "6378453e",
   "metadata": {},
   "source": [
    "A key difference between the two experiments lies in the focus. Fisher’s experiment tested the personal ability of one individual, Dr. Bristol, while the STA130 experiment involves a larger group—students from a statistics class. This distinction in both the population and sample size is important to note."
   ]
  },
  {
   "cell_type": "markdown",
   "id": "83fde113",
   "metadata": {},
   "source": [
    "Null and Alternative Hypotheses"
   ]
  },
  {
   "cell_type": "markdown",
   "id": "09bf0399",
   "metadata": {},
   "source": [
    "Formal Version:\n",
    "Null Hypothesis (H₀): Students are guessing randomly when identifying whether tea or milk was poured first, implying the probability of a correct answer is \\( p = 0.5 \\).\n",
    "Alternative Hypothesis (Hₐ): Students are able to distinguish the correct order better than by chance, meaning the probability of a correct answer is \\( p > 0.5 \\)."
   ]
  },
  {
   "cell_type": "markdown",
   "id": "8404b8c0",
   "metadata": {},
   "source": [
    "Informal Version:\n",
    "Null Hypothesis: The students are just making random guesses, so any correct answers are purely due to luck.\n",
    "Alternative Hypothesis: The students may have some ability to detect the correct order, with more than half answering correctly."
   ]
  },
  {
   "cell_type": "markdown",
   "id": "cfb574cd",
   "metadata": {},
   "source": [
    "Quantitative Analysis"
   ]
  },
  {
   "cell_type": "markdown",
   "id": "f4b7a223",
   "metadata": {},
   "source": [
    "Observed Test Statistic: Out of 80 students, 49 correctly identified the order, meaning our observed proportion of success is \n",
    "𝑝\n",
    "^\n",
    "=\n",
    "49\n",
    "80\n",
    "=\n",
    "0.6125\n",
    "p\n",
    "^\n",
    "​\n",
    " = \n",
    "80\n",
    "49\n",
    "​\n",
    " =0.6125.\n",
    "\n",
    "Sampling Distribution under the Null Hypothesis:\n",
    "\n",
    "Under \n",
    "𝐻\n",
    "0\n",
    "H \n",
    "0\n",
    "​\n",
    " , the number of correct guesses should follow a binomial distribution: \n",
    "𝑋\n",
    "∼\n",
    "𝐵\n",
    "𝑖\n",
    "𝑛\n",
    "𝑜\n",
    "𝑚\n",
    "𝑖\n",
    "𝑎\n",
    "𝑙\n",
    "(\n",
    "𝑛\n",
    "=\n",
    "80\n",
    ",\n",
    "𝑝\n",
    "=\n",
    "0.5\n",
    ")\n",
    "X∼Binomial(n=80,p=0.5).\n",
    "You could simulate the sampling distribution under the null hypothesis to estimate the p-value.\n",
    "Alternatively, you could use the normal approximation for the binomial distribution, calculating the expected mean and standard deviation:\n",
    "𝜇\n",
    "=\n",
    "𝑛\n",
    "𝑝\n",
    "=\n",
    "80\n",
    "×\n",
    "0.5\n",
    "=\n",
    "40\n",
    "μ=np=80×0.5=40\n",
    "𝜎\n",
    "=\n",
    "𝑛\n",
    "𝑝\n",
    "(\n",
    "1\n",
    "−\n",
    "𝑝\n",
    ")\n",
    "=\n",
    "80\n",
    "×\n",
    "0.5\n",
    "×\n",
    "0.5\n",
    "=\n",
    "4.47\n",
    "σ= \n",
    "np(1−p)\n",
    "​\n",
    " = \n",
    "80×0.5×0.5\n",
    "​\n",
    " =4.47"
   ]
  },
  {
   "cell_type": "markdown",
   "id": "8ada08c2",
   "metadata": {},
   "source": [
    " Methodology and Code Explanation"
   ]
  },
  {
   "cell_type": "code",
   "execution_count": 3,
   "id": "b315554a",
   "metadata": {},
   "outputs": [
    {
     "name": "stdout",
     "output_type": "stream",
     "text": [
      "P-value: 0.028332213172560572\n"
     ]
    }
   ],
   "source": [
    "import numpy as np\n",
    "from scipy.stats import binomtest\n",
    "\n",
    "# Reproducibility\n",
    "np.random.seed(42)\n",
    "\n",
    "# Parameters\n",
    "n = 80  # Total students\n",
    "k = 49  # Correct guesses\n",
    "\n",
    "# Perform the binomial test using 'binomtest'\n",
    "result = binomtest(k, n, p=0.5, alternative='greater')\n",
    "\n",
    "# Output the p-value\n",
    "print(f\"P-value: {result.pvalue}\")\n"
   ]
  },
  {
   "cell_type": "markdown",
   "id": "b8968665",
   "metadata": {},
   "source": [
    "This code calculates the p-value for the one-tailed hypothesis test, where the alternative hypothesis is that students are better than random guessing (p > 0.5)."
   ]
  },
  {
   "cell_type": "markdown",
   "id": "203b7a99",
   "metadata": {},
   "source": [
    "Supporting Visualizations "
   ]
  },
  {
   "cell_type": "code",
   "execution_count": 4,
   "id": "ea825ef0",
   "metadata": {},
   "outputs": [
    {
     "data": {
      "image/png": "[encoded data removed]",
      "text/plain": [
       "<Figure size 800x600 with 1 Axes>"
      ]
     },
     "metadata": {},
     "output_type": "display_data"
    }
   ],
   "source": [
    "import matplotlib.pyplot as plt\n",
    "import seaborn as sns\n",
    "from scipy.stats import binom\n",
    "\n",
    "# Plot the binomial distribution under the null hypothesis\n",
    "x = np.arange(0, n + 1)\n",
    "y = binom.pmf(x, n, 0.5)\n",
    "\n",
    "plt.figure(figsize=(8, 6))\n",
    "plt.bar(x, y, color='lightblue', edgecolor='black')\n",
    "plt.axvline(49, color='red', linestyle='--', label=\"Observed (49)\")\n",
    "plt.xlabel('Number of correct guesses')\n",
    "plt.ylabel('Probability')\n",
    "plt.title('Binomial Distribution under Null Hypothesis (p=0.5)')\n",
    "plt.legend()\n",
    "plt.show()\n"
   ]
  },
  {
   "cell_type": "markdown",
   "id": "2d62b5f0",
   "metadata": {},
   "source": [
    "Findings and Discussion"
   ]
  },
  {
   "cell_type": "markdown",
   "id": "96287777",
   "metadata": {},
   "source": [
    "P-value Interpretation:\n",
    "After conducting the hypothesis test, if you get a p-value of 0.08, this means there is an 8% chance of observing 49 or more correct guesses purely by random guessing, assuming the null hypothesis is true. Since this p-value is higher than the typical significance level (like 0.05), we don't have enough evidence to reject the null hypothesis."
   ]
  },
  {
   "cell_type": "markdown",
   "id": "c638e7ee",
   "metadata": {},
   "source": [
    "Confidence Interval Approach:\n",
    "You could also calculate a confidence interval for the proportion of students who correctly identified the order. If 0.5 (the probability of random guessing) is within this interval, it would suggest that the students may not be significantly better than guessing by chance."
   ]
  },
  {
   "cell_type": "markdown",
   "id": "f9adf1cb",
   "metadata": {},
   "source": [
    "Conclusion"
   ]
  },
  {
   "cell_type": "markdown",
   "id": "ea5a8ba4",
   "metadata": {},
   "source": [
    "Given the p-value, there isn’t enough evidence to reject the null hypothesis. This indicates that the students may not be able to identify the pouring order significantly better than by random guessing."
   ]
  },
  {
   "cell_type": "markdown",
   "id": "4c1ab169",
   "metadata": {},
   "source": [
    "link with chatgpt for Q8:https://chatgpt.com/share/670de7d0-9c9c-8010-a5b2-d8b4dd677eaf"
   ]
  },
  {
   "cell_type": "markdown",
   "id": "0850bde0",
   "metadata": {},
   "source": [
    "abstract with chatgpt for Q8:"
   ]
  },
  {
   "cell_type": "markdown",
   "id": "ebe25dcb",
   "metadata": {},
   "source": [
    "In this conversation, you asked for help with an assignment related to Fisher's Tea Experiment, which involves hypothesis testing with STA130 students. The experiment is inspired by Ronald Fisher's original tea experiment but applies to a sample of 80 STA130 students, 49 of whom correctly identified whether tea or milk was poured first.\n",
    "\n",
    "I provided an outline for your report, including the problem introduction, null and alternative hypotheses, and the quantitative analysis using a binomial test. We discussed:\n",
    "\n",
    "Null Hypothesis: Students are guessing randomly (probability \n",
    "𝑝\n",
    "=\n",
    "0.5\n",
    "p=0.5).\n",
    "Alternative Hypothesis: Students are better than random guessing (probability \n",
    "𝑝\n",
    ">\n",
    "0.5\n",
    "p>0.5).\n",
    "I also provided Python code using binom_test for hypothesis testing, which yielded a p-value of approximately 0.028. You received a warning that binom_test is deprecated, so I suggested switching to binomtest to avoid future compatibility issues. The updated code achieves the same results but with the correct, non-deprecated function.\n",
    "\n",
    "The conversation concluded with an updated code snippet using binomtest and a brief explanation of how to interpret the p-value in the context of hypothesis testing.\n",
    "\n",
    "Let me know if you'd like any further clarification!"
   ]
  },
  {
   "cell_type": "markdown",
   "id": "0821a4cd",
   "metadata": {},
   "source": [
    "9. Have you reviewed the course wiki-textbook and interacted with a ChatBot (or, if that wasn't sufficient, real people in the course piazza discussion board or TA office hours) to help you understand all the material in the tutorial and lecture that you didn't quite follow when you first saw it?"
   ]
  },
  {
   "cell_type": "markdown",
   "id": "602eea66",
   "metadata": {},
   "source": [
    "yes i looked through the textbook."
   ]
  }
 ],
 "metadata": {
  "kernelspec": {
   "display_name": "Python 3 (ipykernel)",
   "language": "python",
   "name": "python3"
  },
  "language_info": {
   "codemirror_mode": {
    "name": "ipython",
    "version": 3
   },
   "file_extension": ".py",
   "mimetype": "text/x-python",
   "name": "python",
   "nbconvert_exporter": "python",
   "pygments_lexer": "ipython3",
   "version": "3.11.6"
  }
 },
 "nbformat": 4,
 "nbformat_minor": 5
}
